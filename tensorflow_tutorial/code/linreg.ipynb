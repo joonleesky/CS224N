{
 "cells": [
  {
   "cell_type": "code",
   "execution_count": 1,
   "metadata": {},
   "outputs": [
    {
     "name": "stderr",
     "output_type": "stream",
     "text": [
      "/home/hojoon/anaconda3/lib/python3.6/importlib/_bootstrap.py:219: RuntimeWarning: compiletime version 3.5 of module 'tensorflow.python.framework.fast_tensor_util' does not match runtime version 3.6\n",
      "  return f(*args, **kwds)\n",
      "/home/hojoon/anaconda3/lib/python3.6/site-packages/h5py/__init__.py:36: FutureWarning: Conversion of the second argument of issubdtype from `float` to `np.floating` is deprecated. In future, it will be treated as `np.float64 == np.dtype(float).type`.\n",
      "  from ._conv import register_converters as _register_converters\n"
     ]
    }
   ],
   "source": [
    "import os\n",
    "os.environ['TF_CPP_MIN_LOG_LEVEL']='2'\n",
    "import time\n",
    "\n",
    "import numpy as np\n",
    "import matplotlib.pyplot as plt\n",
    "import tensorflow as tf\n",
    "\n",
    "import utils"
   ]
  },
  {
   "cell_type": "code",
   "execution_count": 2,
   "metadata": {},
   "outputs": [],
   "source": [
    "DATA_FILE = 'birth_life_2010.txt'\n",
    "\n",
    "# Step 1: read in data from the .txt file\n",
    "data, n_samples = utils.read_birth_life_data(DATA_FILE)"
   ]
  },
  {
   "cell_type": "code",
   "execution_count": 3,
   "metadata": {},
   "outputs": [],
   "source": [
    "X = tf.placeholder(tf.float32, shape = (None), name = 'X')\n",
    "Y = tf.placeholder(tf.float32, shape = (None), name = 'Y')\n",
    "\n",
    "w = tf.get_variable('weights', initializer=tf.constant(0.0))\n",
    "b = tf.get_variable('bias', initializer=tf.constant(0.0))\n",
    "\n",
    "Y_predicted = w * X + b\n",
    "\n",
    "loss = tf.reduce_mean(tf.square(Y - Y_predicted, name = 'loss'))\n",
    "\n",
    "optimizer = tf.train.GradientDescentOptimizer(0.005).minimize(loss)"
   ]
  },
  {
   "cell_type": "code",
   "execution_count": 4,
   "metadata": {},
   "outputs": [
    {
     "name": "stdout",
     "output_type": "stream",
     "text": [
      "Epoch 0: 121688.10665036738\n",
      "Epoch 1: 75771.7661218876\n",
      "Epoch 2: 55239.01469578367\n",
      "Epoch 3: 40698.16497428529\n",
      "Epoch 4: 30398.519768526778\n",
      "Epoch 5: 23101.289941478986\n",
      "Epoch 6: 17929.74105669395\n",
      "Epoch 7: 14263.403894871473\n",
      "Epoch 8: 11663.138903677464\n",
      "Epoch 9: 9818.059137366945\n",
      "Epoch 10: 8508.124732336495\n",
      "Epoch 11: 7577.471975755179\n",
      "Epoch 12: 6915.768446733244\n",
      "Epoch 13: 6444.848745863535\n",
      "Epoch 14: 6109.354731375177\n",
      "Epoch 15: 5870.019718342519\n",
      "Epoch 16: 5699.0373437497765\n",
      "Epoch 17: 5576.669016190106\n",
      "Epoch 18: 5488.91903629154\n",
      "Epoch 19: 5425.85064850701\n",
      "Epoch 20: 5380.38709350444\n",
      "Epoch 21: 5347.524178295469\n",
      "Epoch 22: 5323.68029908622\n",
      "Epoch 23: 5306.3175170002505\n",
      "Epoch 24: 5293.614611161407\n",
      "Epoch 25: 5284.272049623309\n",
      "Epoch 26: 5277.36589421035\n",
      "Epoch 27: 5272.235220298462\n",
      "Epoch 28: 5268.391601807438\n",
      "Epoch 29: 5265.495636321604\n",
      "Time spent: 2.963929\n"
     ]
    }
   ],
   "source": [
    "start = time.time()\n",
    "writer = tf.summary.FileWriter('./graphs/linear_reg', tf.get_default_graph())\n",
    "\n",
    "with tf.Session() as sess:\n",
    "    sess.run(tf.global_variables_initializer())\n",
    "    \n",
    "    for i in range(30):\n",
    "        total_loss = 0\n",
    "        for x, y in data:\n",
    "            _, l = sess.run([optimizer, loss], feed_dict = {X:x, Y:y})\n",
    "            total_loss += l\n",
    "        print('Epoch {0}: {1}'.format(i, total_loss))\n",
    "    writer.close()\n",
    "    w_out, b_out = sess.run([w,b])\n",
    "print('Time spent: %f' %(time.time() - start))"
   ]
  },
  {
   "cell_type": "code",
   "execution_count": 5,
   "metadata": {},
   "outputs": [
    {
     "data": {
      "image/png": "[encoded data removed]",
      "text/plain": [
       "<Figure size 432x288 with 1 Axes>"
      ]
     },
     "metadata": {},
     "output_type": "display_data"
    }
   ],
   "source": [
    "# plot the results\n",
    "plt.plot(data[:,0], data[:,1], 'bo', label='Real data')\n",
    "plt.plot(data[:,0], data[:,0] * w_out + b_out, 'r', label='Predicted data')\n",
    "plt.legend()\n",
    "plt.show()"
   ]
  },
  {
   "cell_type": "code",
   "execution_count": null,
   "metadata": {},
   "outputs": [],
   "source": []
  }
 ],
 "metadata": {
  "kernelspec": {
   "display_name": "Python 3",
   "language": "python",
   "name": "python3"
  },
  "language_info": {
   "codemirror_mode": {
    "name": "ipython",
    "version": 3
   },
   "file_extension": ".py",
   "mimetype": "text/x-python",
   "name": "python",
   "nbconvert_exporter": "python",
   "pygments_lexer": "ipython3",
   "version": "3.6.4"
  }
 },
 "nbformat": 4,
 "nbformat_minor": 2
}
