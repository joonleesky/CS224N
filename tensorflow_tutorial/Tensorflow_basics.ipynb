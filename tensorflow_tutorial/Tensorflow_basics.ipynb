{
 "cells": [
  {
   "cell_type": "markdown",
   "metadata": {},
   "source": [
    "### Tensorflow Tutorials\n",
    "\n",
    "##### What is Tensorflow?\n",
    "\n",
    "- graph nodes are operations\n",
    "- graph edges are tensors which flow between nodes\n",
    "\n",
    "##### Basic Concpets\n",
    "\n",
    "- *Variables*: stateful nodes which output their current value (parameters)(by definition, operation)\n",
    "- *Placeholders* : nodes whose value is fed in at execution time (inputs, labels)\n",
    "\n",
    "##### Flows\n",
    "\n",
    "1. Define Graphs\n",
    "2. Run through a session"
   ]
  },
  {
   "cell_type": "code",
   "execution_count": 1,
   "metadata": {},
   "outputs": [
    {
     "name": "stderr",
     "output_type": "stream",
     "text": [
      "/home/hojoon/anaconda3/lib/python3.6/importlib/_bootstrap.py:219: RuntimeWarning: compiletime version 3.5 of module 'tensorflow.python.framework.fast_tensor_util' does not match runtime version 3.6\n",
      "  return f(*args, **kwds)\n",
      "/home/hojoon/anaconda3/lib/python3.6/site-packages/h5py/__init__.py:36: FutureWarning: Conversion of the second argument of issubdtype from `float` to `np.floating` is deprecated. In future, it will be treated as `np.float64 == np.dtype(float).type`.\n",
      "  from ._conv import register_converters as _register_converters\n"
     ]
    }
   ],
   "source": [
    "import tensorflow as tf\n",
    "import numpy as np"
   ]
  },
  {
   "cell_type": "markdown",
   "metadata": {},
   "source": [
    "#### H = ReLU(Wx+b)"
   ]
  },
  {
   "cell_type": "code",
   "execution_count": 2,
   "metadata": {},
   "outputs": [],
   "source": [
    "# Build Graph\n",
    "\n",
    "b = tf.Variable(tf.zeros((10,)))\n",
    "W = tf.Variable(tf.random_uniform((50, 10), -1, 1))\n",
    "\n",
    "x = tf.placeholder(tf.float32, (100, 50))\n",
    "\n",
    "h = tf.nn.relu(tf.matmul(x,W) + b)"
   ]
  },
  {
   "cell_type": "code",
   "execution_count": 3,
   "metadata": {},
   "outputs": [
    {
     "data": {
      "text/plain": [
       "[<tf.Operation 'zeros' type=Const>,\n",
       " <tf.Operation 'Variable' type=VariableV2>,\n",
       " <tf.Operation 'Variable/Assign' type=Assign>,\n",
       " <tf.Operation 'Variable/read' type=Identity>,\n",
       " <tf.Operation 'random_uniform/shape' type=Const>,\n",
       " <tf.Operation 'random_uniform/min' type=Const>,\n",
       " <tf.Operation 'random_uniform/max' type=Const>,\n",
       " <tf.Operation 'random_uniform/RandomUniform' type=RandomUniform>,\n",
       " <tf.Operation 'random_uniform/sub' type=Sub>,\n",
       " <tf.Operation 'random_uniform/mul' type=Mul>,\n",
       " <tf.Operation 'random_uniform' type=Add>,\n",
       " <tf.Operation 'Variable_1' type=VariableV2>,\n",
       " <tf.Operation 'Variable_1/Assign' type=Assign>,\n",
       " <tf.Operation 'Variable_1/read' type=Identity>,\n",
       " <tf.Operation 'Placeholder' type=Placeholder>,\n",
       " <tf.Operation 'MatMul' type=MatMul>,\n",
       " <tf.Operation 'add' type=Add>,\n",
       " <tf.Operation 'Relu' type=Relu>]"
      ]
     },
     "execution_count": 3,
     "metadata": {},
     "output_type": "execute_result"
    }
   ],
   "source": [
    "tf.get_default_graph().get_operations()"
   ]
  },
  {
   "cell_type": "code",
   "execution_count": 4,
   "metadata": {},
   "outputs": [
    {
     "name": "stdout",
     "output_type": "stream",
     "text": [
      "WARNING:tensorflow:From /home/hojoon/anaconda3/lib/python3.6/site-packages/tensorflow/python/util/tf_should_use.py:107: initialize_all_variables (from tensorflow.python.ops.variables) is deprecated and will be removed after 2017-03-02.\n",
      "Instructions for updating:\n",
      "Use `tf.global_variables_initializer` instead.\n"
     ]
    }
   ],
   "source": [
    "# Run the Graph \n",
    "# sess.run(fetches, feeds)\n",
    "# fetches: output, feeds: input\n",
    "with tf.Session() as sess:\n",
    "    sess.run(tf.initialize_all_variables()) #we can assign values only on run time\n",
    "    sess.run(h, {x: np.random.randn(100, 50)}) #insert feed dictionary with numpy array"
   ]
  },
  {
   "cell_type": "markdown",
   "metadata": {},
   "source": [
    "#### Training the Model"
   ]
  },
  {
   "cell_type": "code",
   "execution_count": 5,
   "metadata": {},
   "outputs": [],
   "source": [
    "# Use placeholders for labels\n",
    "# Build loss node using labels and prediction\n",
    "\n",
    "prediction = tf.nn.softmax(h)\n",
    "label = tf.placeholder(tf.float32, [None,10])\n",
    "\n",
    "cross_entropy = tf.reduce_mean(-tf.reduce_sum(label * tf.log(prediction), \n",
    "                                              reduction_indices = [1]))"
   ]
  },
  {
   "cell_type": "code",
   "execution_count": 6,
   "metadata": {},
   "outputs": [],
   "source": [
    "# tf.train.GradientdescentOptimizer is an Optimizer object\n",
    "# tf.train.GradientDescentOptimizer(lr).minimize(loss) optimizes computation graph\n",
    "\n",
    "train_step = tf.train.GradientDescentOptimizer(0.5).minimize(cross_entropy)"
   ]
  },
  {
   "cell_type": "code",
   "execution_count": 9,
   "metadata": {},
   "outputs": [],
   "source": [
    "# Create session -> Build training schedule -> Run train_step\n",
    "# sess.run(train_step, feeds)\n",
    "\n",
    "lab = np.ones((100,10))\n",
    "lab[np.arange(100), np.random.choice(np.arange(10), 100)] = 1\n",
    "\n",
    "sess = tf.Session()\n",
    "sess.run(tf.initialize_all_variables())\n",
    "\n",
    "for i in range(100):\n",
    "    sess.run(train_step, feed_dict = {x: np.random.randn(100, 50), label: lab})"
   ]
  },
  {
   "cell_type": "markdown",
   "metadata": {},
   "source": [
    "#### Variable Sharing"
   ]
  },
  {
   "cell_type": "code",
   "execution_count": 10,
   "metadata": {},
   "outputs": [],
   "source": [
    "# naive way: use variables saving in dictionary\n",
    "# Use Name\n",
    "#   - tf.variable_scope() : provides simple name-spacing to avoid crashes\n",
    "#   - tf.get_variable()   : creates.accesses variables from within variable scope\n",
    "\n",
    "with tf.variable_scope(\"foo\"):\n",
    "    v = tf.get_variable(\"v\", shape = [1]) # v.name == \"foo/v:0\"\n",
    "with tf.variable_scope(\"foo\", reuse= True):\n",
    "    v1 = tf.get_variable(\"v\")  # Shared variable found!"
   ]
  }
 ],
 "metadata": {
  "kernelspec": {
   "display_name": "Python 3",
   "language": "python",
   "name": "python3"
  },
  "language_info": {
   "codemirror_mode": {
    "name": "ipython",
    "version": 3
   },
   "file_extension": ".py",
   "mimetype": "text/x-python",
   "name": "python",
   "nbconvert_exporter": "python",
   "pygments_lexer": "ipython3",
   "version": "3.6.4"
  }
 },
 "nbformat": 4,
 "nbformat_minor": 2
}
