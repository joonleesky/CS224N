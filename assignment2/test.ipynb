{
 "cells": [
  {
   "cell_type": "code",
   "execution_count": 1,
   "metadata": {},
   "outputs": [
    {
     "name": "stderr",
     "output_type": "stream",
     "text": [
      "/home/hojoon/anaconda3/lib/python3.6/importlib/_bootstrap.py:219: RuntimeWarning: compiletime version 3.5 of module 'tensorflow.python.framework.fast_tensor_util' does not match runtime version 3.6\n",
      "  return f(*args, **kwds)\n",
      "/home/hojoon/anaconda3/lib/python3.6/site-packages/h5py/__init__.py:36: FutureWarning: Conversion of the second argument of issubdtype from `float` to `np.floating` is deprecated. In future, it will be treated as `np.float64 == np.dtype(float).type`.\n",
      "  from ._conv import register_converters as _register_converters\n"
     ]
    }
   ],
   "source": [
    "from q1_softmax import *"
   ]
  },
  {
   "cell_type": "code",
   "execution_count": 2,
   "metadata": {},
   "outputs": [
    {
     "name": "stdout",
     "output_type": "stream",
     "text": [
      "Softmax test 1 passed!\n",
      "Softmax test 2 passed!\n",
      "Basic (non-exhaustive) softmax tests pass\n",
      "\n"
     ]
    }
   ],
   "source": [
    "test_softmax_basic()"
   ]
  },
  {
   "cell_type": "code",
   "execution_count": 3,
   "metadata": {},
   "outputs": [
    {
     "name": "stdout",
     "output_type": "stream",
     "text": [
      "Cross-entropy test 1 passed!\n",
      "Basic (non-exhaustive) cross-entropy tests pass\n"
     ]
    }
   ],
   "source": [
    "test_cross_entropy_loss_basic()"
   ]
  },
  {
   "cell_type": "code",
   "execution_count": 4,
   "metadata": {},
   "outputs": [],
   "source": [
    "from q1_classifier import *"
   ]
  },
  {
   "cell_type": "code",
   "execution_count": 5,
   "metadata": {},
   "outputs": [
    {
     "name": "stdout",
     "output_type": "stream",
     "text": [
      "Epoch 0: loss = 59.18 (0.658 sec)\n",
      "Epoch 1: loss = 20.32 (0.040 sec)\n",
      "Epoch 2: loss = 10.92 (0.039 sec)\n",
      "Epoch 3: loss = 7.30 (0.038 sec)\n",
      "Epoch 4: loss = 5.44 (0.039 sec)\n",
      "Epoch 5: loss = 4.32 (0.039 sec)\n",
      "Epoch 6: loss = 3.58 (0.038 sec)\n",
      "Epoch 7: loss = 3.05 (0.024 sec)\n",
      "Epoch 8: loss = 2.65 (0.020 sec)\n",
      "Epoch 9: loss = 2.35 (0.021 sec)\n",
      "Epoch 10: loss = 2.11 (0.019 sec)\n",
      "Epoch 11: loss = 1.91 (0.016 sec)\n",
      "Epoch 12: loss = 1.75 (0.010 sec)\n",
      "Epoch 13: loss = 1.61 (0.009 sec)\n",
      "Epoch 14: loss = 1.49 (0.007 sec)\n",
      "Epoch 15: loss = 1.39 (0.007 sec)\n",
      "Epoch 16: loss = 1.30 (0.007 sec)\n",
      "Epoch 17: loss = 1.22 (0.006 sec)\n",
      "Epoch 18: loss = 1.15 (0.009 sec)\n",
      "Epoch 19: loss = 1.09 (0.007 sec)\n",
      "Epoch 20: loss = 1.03 (0.007 sec)\n",
      "Epoch 21: loss = 0.98 (0.007 sec)\n",
      "Epoch 22: loss = 0.94 (0.008 sec)\n",
      "Epoch 23: loss = 0.89 (0.007 sec)\n",
      "Epoch 24: loss = 0.86 (0.007 sec)\n",
      "Epoch 25: loss = 0.82 (0.008 sec)\n",
      "Epoch 26: loss = 0.79 (0.007 sec)\n",
      "Epoch 27: loss = 0.76 (0.011 sec)\n",
      "Epoch 28: loss = 0.73 (0.008 sec)\n",
      "Epoch 29: loss = 0.71 (0.007 sec)\n",
      "Epoch 30: loss = 0.68 (0.006 sec)\n",
      "Epoch 31: loss = 0.66 (0.006 sec)\n",
      "Epoch 32: loss = 0.64 (0.007 sec)\n",
      "Epoch 33: loss = 0.62 (0.006 sec)\n",
      "Epoch 34: loss = 0.60 (0.007 sec)\n",
      "Epoch 35: loss = 0.58 (0.006 sec)\n",
      "Epoch 36: loss = 0.57 (0.009 sec)\n",
      "Epoch 37: loss = 0.55 (0.006 sec)\n",
      "Epoch 38: loss = 0.54 (0.009 sec)\n",
      "Epoch 39: loss = 0.52 (0.007 sec)\n",
      "Epoch 40: loss = 0.51 (0.008 sec)\n",
      "Epoch 41: loss = 0.50 (0.008 sec)\n",
      "Epoch 42: loss = 0.48 (0.007 sec)\n",
      "Epoch 43: loss = 0.47 (0.007 sec)\n",
      "Epoch 44: loss = 0.46 (0.009 sec)\n",
      "Epoch 45: loss = 0.45 (0.008 sec)\n",
      "Epoch 46: loss = 0.44 (0.011 sec)\n",
      "Epoch 47: loss = 0.43 (0.008 sec)\n",
      "Epoch 48: loss = 0.42 (0.008 sec)\n",
      "Epoch 49: loss = 0.41 (0.009 sec)\n",
      "Basic (non-exhaustive) classifier tests pass\n"
     ]
    }
   ],
   "source": [
    "test_softmax_model()"
   ]
  },
  {
   "cell_type": "code",
   "execution_count": 1,
   "metadata": {},
   "outputs": [],
   "source": [
    "from q2_parser_transitions import *"
   ]
  },
  {
   "cell_type": "code",
   "execution_count": 2,
   "metadata": {},
   "outputs": [
    {
     "name": "stdout",
     "output_type": "stream",
     "text": [
      "SHIFT test passed!\n",
      "LEFT-ARC test passed!\n",
      "RIGHT-ARC test passed!\n",
      "parse test passed!\n",
      "minibatch_parse test passed!\n"
     ]
    }
   ],
   "source": [
    "test_parse_step()\n",
    "test_parse()\n",
    "test_minibatch_parse()"
   ]
  },
  {
   "cell_type": "code",
   "execution_count": 3,
   "metadata": {},
   "outputs": [
    {
     "name": "stderr",
     "output_type": "stream",
     "text": [
      "/home/hojoon/anaconda3/lib/python3.6/importlib/_bootstrap.py:219: RuntimeWarning: compiletime version 3.5 of module 'tensorflow.python.framework.fast_tensor_util' does not match runtime version 3.6\n",
      "  return f(*args, **kwds)\n",
      "/home/hojoon/anaconda3/lib/python3.6/site-packages/h5py/__init__.py:36: FutureWarning: Conversion of the second argument of issubdtype from `float` to `np.floating` is deprecated. In future, it will be treated as `np.float64 == np.dtype(float).type`.\n",
      "  from ._conv import register_converters as _register_converters\n"
     ]
    }
   ],
   "source": [
    "from q2_initialization import test_initialization_basic"
   ]
  },
  {
   "cell_type": "code",
   "execution_count": 4,
   "metadata": {},
   "outputs": [
    {
     "name": "stdout",
     "output_type": "stream",
     "text": [
      "Running basic tests...\n",
      "Basic (non-exhaustive) Xavier initialization tests pass\n"
     ]
    }
   ],
   "source": [
    "test_initialization_basic()"
   ]
  },
  {
   "cell_type": "code",
   "execution_count": 1,
   "metadata": {},
   "outputs": [
    {
     "name": "stderr",
     "output_type": "stream",
     "text": [
      "/home/hojoon/anaconda3/lib/python3.6/importlib/_bootstrap.py:219: RuntimeWarning: compiletime version 3.5 of module 'tensorflow.python.framework.fast_tensor_util' does not match runtime version 3.6\n",
      "  return f(*args, **kwds)\n",
      "/home/hojoon/anaconda3/lib/python3.6/site-packages/h5py/__init__.py:36: FutureWarning: Conversion of the second argument of issubdtype from `float` to `np.floating` is deprecated. In future, it will be treated as `np.float64 == np.dtype(float).type`.\n",
      "  from ._conv import register_converters as _register_converters\n"
     ]
    }
   ],
   "source": [
    "from q2_parser_model import *"
   ]
  },
  {
   "cell_type": "code",
   "execution_count": 2,
   "metadata": {},
   "outputs": [
    {
     "name": "stdout",
     "output_type": "stream",
     "text": [
      "================================================================================\n",
      "INITIALIZING\n",
      "================================================================================\n",
      "Loading data...\n",
      "took 1.32 seconds\n",
      "Building parser...\n",
      "took 0.02 seconds\n",
      "Loading pretrained embeddings...\n",
      "took 1.43 seconds\n",
      "Vectorizing data...\n",
      "took 0.04 seconds\n",
      "Preprocessing training data...\n",
      "took 0.86 seconds\n",
      "Building model...\n",
      "took 0.09 seconds\n",
      "\n",
      "================================================================================\n",
      "TRAINING\n",
      "================================================================================\n",
      "Epoch 1 out of 10\n",
      "33/48 [===================>..........] - ETA: 0s - train loss: 0.8145Evaluating on dev set\n",
      "- dev UAS: 47.06\n",
      "Epoch 2 out of 10\n",
      "35/48 [====================>.........] - ETA: 0s - train loss: 0.4120Evaluating on dev set\n",
      "- dev UAS: 57.74\n",
      "Epoch 3 out of 10\n",
      "38/48 [======================>.......] - ETA: 0s - train loss: 0.3189Evaluating on dev set\n",
      "- dev UAS: 58.69\n",
      "Epoch 4 out of 10\n",
      "37/48 [======================>.......] - ETA: 0s - train loss: 0.2814Evaluating on dev set\n",
      "- dev UAS: 61.91\n",
      "Epoch 5 out of 10\n",
      "39/48 [=======================>......] - ETA: 0s - train loss: 0.2543Evaluating on dev set\n",
      "- dev UAS: 63.45\n",
      "Epoch 6 out of 10\n",
      "38/48 [======================>.......] - ETA: 0s - train loss: 0.2399Evaluating on dev set\n",
      "- dev UAS: 65.03\n",
      "Epoch 7 out of 10\n",
      "40/48 [=======================>......] - ETA: 0s - train loss: 0.2234Evaluating on dev set\n",
      "- dev UAS: 65.13\n",
      "Epoch 8 out of 10\n",
      "39/48 [=======================>......] - ETA: 0s - train loss: 0.2087Evaluating on dev set\n",
      "- dev UAS: 66.55\n",
      "Epoch 9 out of 10\n",
      "38/48 [======================>.......] - ETA: 0s - train loss: 0.1928Evaluating on dev set\n",
      "- dev UAS: 67.51\n",
      "Epoch 10 out of 10\n",
      "36/48 [=====================>........] - ETA: 0s - train loss: 0.1831Evaluating on dev set\n",
      "- dev UAS: 68.57\n"
     ]
    }
   ],
   "source": [
    "main()"
   ]
  },
  {
   "cell_type": "code",
   "execution_count": 3,
   "metadata": {},
   "outputs": [
    {
     "name": "stdout",
     "output_type": "stream",
     "text": [
      "================================================================================\n",
      "INITIALIZING\n",
      "================================================================================\n",
      "Loading data...\n",
      "took 1.22 seconds\n",
      "Building parser...\n",
      "took 0.76 seconds\n",
      "Loading pretrained embeddings...\n",
      "took 1.70 seconds\n",
      "Vectorizing data...\n",
      "took 0.93 seconds\n",
      "Preprocessing training data...\n",
      "took 29.35 seconds\n",
      "Building model...\n",
      "took 0.11 seconds\n",
      "\n",
      "================================================================================\n",
      "TRAINING\n",
      "================================================================================\n",
      "Epoch 1 out of 10\n",
      "1840/1848 [============================>.] - ETA: 0s - train loss: 0.1945Evaluating on dev set\n",
      "- dev UAS: 82.77\n",
      "New best dev UAS! Saving model in ./data/weights/parser.weights\n",
      "Epoch 2 out of 10\n",
      "1847/1848 [============================>.] - ETA: 0s - train loss: 0.1189Evaluating on dev set\n",
      "- dev UAS: 84.81\n",
      "New best dev UAS! Saving model in ./data/weights/parser.weights\n",
      "Epoch 3 out of 10\n",
      "1835/1848 [============================>.] - ETA: 0s - train loss: 0.1042Evaluating on dev set\n",
      "- dev UAS: 86.59\n",
      "New best dev UAS! Saving model in ./data/weights/parser.weights\n",
      "Epoch 4 out of 10\n",
      "1847/1848 [============================>.] - ETA: 0s - train loss: 0.0956Evaluating on dev set\n",
      "- dev UAS: 87.11\n",
      "New best dev UAS! Saving model in ./data/weights/parser.weights\n",
      "Epoch 5 out of 10\n",
      "1839/1848 [============================>.] - ETA: 0s - train loss: 0.0891Evaluating on dev set\n",
      "- dev UAS: 87.69\n",
      "New best dev UAS! Saving model in ./data/weights/parser.weights\n",
      "Epoch 6 out of 10\n",
      "1844/1848 [============================>.] - ETA: 0s - train loss: 0.0844Evaluating on dev set\n",
      "- dev UAS: 87.36\n",
      "Epoch 7 out of 10\n",
      "1848/1848 [============================>.] - ETA: 0s - train loss: 0.0805Evaluating on dev set\n",
      "- dev UAS: 87.45\n",
      "Epoch 8 out of 10\n",
      "1839/1848 [============================>.] - ETA: 0s - train loss: 0.0768Evaluating on dev set\n",
      "- dev UAS: 87.87\n",
      "New best dev UAS! Saving model in ./data/weights/parser.weights\n",
      "Epoch 9 out of 10\n",
      "1838/1848 [============================>.] - ETA: 0s - train loss: 0.0741Evaluating on dev set\n",
      "- dev UAS: 87.98\n",
      "New best dev UAS! Saving model in ./data/weights/parser.weights\n",
      "Epoch 10 out of 10\n",
      "1842/1848 [============================>.] - ETA: 0s - train loss: 0.0710Evaluating on dev set\n",
      "- dev UAS: 87.77\n",
      "================================================================================\n",
      "TESTING\n",
      "================================================================================\n",
      "Restoring the best model weights found on the dev set\n",
      "INFO:tensorflow:Restoring parameters from ./data/weights/parser.weights\n",
      "Final evaluation on test set\n",
      "- test UAS: 88.34\n",
      "Writing predictions\n"
     ]
    },
    {
     "ename": "TypeError",
     "evalue": "write() argument must be str, not bytes",
     "output_type": "error",
     "traceback": [
      "\u001b[0;31m---------------------------------------------------------------------------\u001b[0m",
      "\u001b[0;31mTypeError\u001b[0m                                 Traceback (most recent call last)",
      "\u001b[0;32m<ipython-input-3-acda85b4a5c5>\u001b[0m in \u001b[0;36m<module>\u001b[0;34m()\u001b[0m\n\u001b[0;32m----> 1\u001b[0;31m \u001b[0mmain\u001b[0m\u001b[0;34m(\u001b[0m\u001b[0mdebug\u001b[0m \u001b[0;34m=\u001b[0m \u001b[0;32mFalse\u001b[0m\u001b[0;34m)\u001b[0m\u001b[0;34m\u001b[0m\u001b[0m\n\u001b[0m",
      "\u001b[0;32m~/github/cs224n/assignment2/q2_parser_model.py\u001b[0m in \u001b[0;36mmain\u001b[0;34m(debug)\u001b[0m\n\u001b[1;32m    275\u001b[0m             \u001b[0mprint\u001b[0m \u001b[0;34m(\u001b[0m\u001b[0;34m\"Writing predictions\"\u001b[0m\u001b[0;34m)\u001b[0m\u001b[0;34m\u001b[0m\u001b[0m\n\u001b[1;32m    276\u001b[0m             \u001b[0;32mwith\u001b[0m \u001b[0mopen\u001b[0m\u001b[0;34m(\u001b[0m\u001b[0;34m'q2_test.predicted.pkl'\u001b[0m\u001b[0;34m,\u001b[0m \u001b[0;34m'w'\u001b[0m\u001b[0;34m)\u001b[0m \u001b[0;32mas\u001b[0m \u001b[0mf\u001b[0m\u001b[0;34m:\u001b[0m\u001b[0;34m\u001b[0m\u001b[0m\n\u001b[0;32m--> 277\u001b[0;31m                 \u001b[0mcPickle\u001b[0m\u001b[0;34m.\u001b[0m\u001b[0mdump\u001b[0m\u001b[0;34m(\u001b[0m\u001b[0mdependencies\u001b[0m\u001b[0;34m,\u001b[0m \u001b[0mf\u001b[0m\u001b[0;34m,\u001b[0m \u001b[0;34m-\u001b[0m\u001b[0;36m1\u001b[0m\u001b[0;34m)\u001b[0m\u001b[0;34m\u001b[0m\u001b[0m\n\u001b[0m\u001b[1;32m    278\u001b[0m             \u001b[0mprint\u001b[0m \u001b[0;34m(\u001b[0m\u001b[0;34m\"Done!\"\u001b[0m\u001b[0;34m)\u001b[0m\u001b[0;34m\u001b[0m\u001b[0m\n\u001b[1;32m    279\u001b[0m \u001b[0;34m\u001b[0m\u001b[0m\n",
      "\u001b[0;31mTypeError\u001b[0m: write() argument must be str, not bytes"
     ]
    }
   ],
   "source": [
    "main(debug = False)"
   ]
  },
  {
   "cell_type": "code",
   "execution_count": null,
   "metadata": {},
   "outputs": [],
   "source": []
  }
 ],
 "metadata": {
  "kernelspec": {
   "display_name": "Python 3",
   "language": "python",
   "name": "python3"
  },
  "language_info": {
   "codemirror_mode": {
    "name": "ipython",
    "version": 3
   },
   "file_extension": ".py",
   "mimetype": "text/x-python",
   "name": "python",
   "nbconvert_exporter": "python",
   "pygments_lexer": "ipython3",
   "version": "3.6.4"
  }
 },
 "nbformat": 4,
 "nbformat_minor": 2
}
