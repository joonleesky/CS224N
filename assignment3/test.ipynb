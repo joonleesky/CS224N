{
 "cells": [
  {
   "cell_type": "code",
   "execution_count": 1,
   "metadata": {},
   "outputs": [
    {
     "name": "stderr",
     "output_type": "stream",
     "text": [
      "/home/hojoon/anaconda3/lib/python3.6/site-packages/h5py/__init__.py:36: FutureWarning: Conversion of the second argument of issubdtype from `float` to `np.floating` is deprecated. In future, it will be treated as `np.float64 == np.dtype(float).type`.\n",
      "  from ._conv import register_converters as _register_converters\n"
     ]
    }
   ],
   "source": [
    "from q1_window import do_test1, do_test2"
   ]
  },
  {
   "cell_type": "code",
   "execution_count": 2,
   "metadata": {},
   "outputs": [
    {
     "name": "stderr",
     "output_type": "stream",
     "text": [
      "INFO:Testing make_windowed_data\n",
      "INFO:Passed!\n"
     ]
    }
   ],
   "source": [
    "do_test1(_)"
   ]
  },
  {
   "cell_type": "code",
   "execution_count": 3,
   "metadata": {},
   "outputs": [
    {
     "name": "stderr",
     "output_type": "stream",
     "text": [
      "INFO:Loading training data...\n",
      "INFO:Done. Read 14041 sentences\n",
      "INFO:Loading dev data...\n",
      "INFO:Done. Read 3250 sentences\n",
      "INFO:Built dictionary for 10007 features.\n",
      "INFO:Initialized embeddings.\n",
      "INFO:Building model...\n",
      "INFO:took 2.37 seconds\n",
      "INFO:Epoch 1 out of 10\n"
     ]
    },
    {
     "ename": "KeyboardInterrupt",
     "evalue": "",
     "output_type": "error",
     "traceback": [
      "\u001b[0;31m---------------------------------------------------------------------------\u001b[0m",
      "\u001b[0;31mKeyboardInterrupt\u001b[0m                         Traceback (most recent call last)",
      "\u001b[0;32m~/github/cs224n/assignment3/q1_window.py\u001b[0m in \u001b[0;36m<module>\u001b[0;34m()\u001b[0m\n\u001b[1;32m    536\u001b[0m         \u001b[0msys\u001b[0m\u001b[0;34m.\u001b[0m\u001b[0mexit\u001b[0m\u001b[0;34m(\u001b[0m\u001b[0;36m1\u001b[0m\u001b[0;34m)\u001b[0m\u001b[0;34m\u001b[0m\u001b[0m\n\u001b[1;32m    537\u001b[0m     \u001b[0;32melse\u001b[0m\u001b[0;34m:\u001b[0m\u001b[0;34m\u001b[0m\u001b[0m\n\u001b[0;32m--> 538\u001b[0;31m         \u001b[0mARGS\u001b[0m\u001b[0;34m.\u001b[0m\u001b[0mfunc\u001b[0m\u001b[0;34m(\u001b[0m\u001b[0mARGS\u001b[0m\u001b[0;34m)\u001b[0m\u001b[0;34m\u001b[0m\u001b[0m\n\u001b[0m",
      "\u001b[0;32m~/github/cs224n/assignment3/q1_window.py\u001b[0m in \u001b[0;36mdo_train\u001b[0;34m(args)\u001b[0m\n\u001b[1;32m    419\u001b[0m         \u001b[0;32mwith\u001b[0m \u001b[0mtf\u001b[0m\u001b[0;34m.\u001b[0m\u001b[0mSession\u001b[0m\u001b[0;34m(\u001b[0m\u001b[0;34m)\u001b[0m \u001b[0;32mas\u001b[0m \u001b[0msession\u001b[0m\u001b[0;34m:\u001b[0m\u001b[0;34m\u001b[0m\u001b[0m\n\u001b[1;32m    420\u001b[0m             \u001b[0msession\u001b[0m\u001b[0;34m.\u001b[0m\u001b[0mrun\u001b[0m\u001b[0;34m(\u001b[0m\u001b[0minit\u001b[0m\u001b[0;34m)\u001b[0m\u001b[0;34m\u001b[0m\u001b[0m\n\u001b[0;32m--> 421\u001b[0;31m             \u001b[0mmodel\u001b[0m\u001b[0;34m.\u001b[0m\u001b[0mfit\u001b[0m\u001b[0;34m(\u001b[0m\u001b[0msession\u001b[0m\u001b[0;34m,\u001b[0m \u001b[0msaver\u001b[0m\u001b[0;34m,\u001b[0m \u001b[0mtrain\u001b[0m\u001b[0;34m,\u001b[0m \u001b[0mdev\u001b[0m\u001b[0;34m)\u001b[0m\u001b[0;34m\u001b[0m\u001b[0m\n\u001b[0m\u001b[1;32m    422\u001b[0m             \u001b[0;32mif\u001b[0m \u001b[0mreport\u001b[0m\u001b[0;34m:\u001b[0m\u001b[0;34m\u001b[0m\u001b[0m\n\u001b[1;32m    423\u001b[0m                 \u001b[0mreport\u001b[0m\u001b[0;34m.\u001b[0m\u001b[0mlog_output\u001b[0m\u001b[0;34m(\u001b[0m\u001b[0mmodel\u001b[0m\u001b[0;34m.\u001b[0m\u001b[0moutput\u001b[0m\u001b[0;34m(\u001b[0m\u001b[0msession\u001b[0m\u001b[0;34m,\u001b[0m \u001b[0mdev_raw\u001b[0m\u001b[0;34m)\u001b[0m\u001b[0;34m)\u001b[0m\u001b[0;34m\u001b[0m\u001b[0m\n",
      "\u001b[0;32m~/github/cs224n/assignment3/ner_model.py\u001b[0m in \u001b[0;36mfit\u001b[0;34m(self, sess, saver, train_examples_raw, dev_set_raw)\u001b[0m\n\u001b[1;32m    113\u001b[0m \u001b[0;34m\u001b[0m\u001b[0m\n\u001b[1;32m    114\u001b[0m             \u001b[0;32mfor\u001b[0m \u001b[0mi\u001b[0m\u001b[0;34m,\u001b[0m \u001b[0mbatch\u001b[0m \u001b[0;32min\u001b[0m \u001b[0menumerate\u001b[0m\u001b[0;34m(\u001b[0m\u001b[0mminibatches\u001b[0m\u001b[0;34m(\u001b[0m\u001b[0mtrain_examples\u001b[0m\u001b[0;34m,\u001b[0m \u001b[0mself\u001b[0m\u001b[0;34m.\u001b[0m\u001b[0mconfig\u001b[0m\u001b[0;34m.\u001b[0m\u001b[0mbatch_size\u001b[0m\u001b[0;34m)\u001b[0m\u001b[0;34m)\u001b[0m\u001b[0;34m:\u001b[0m\u001b[0;34m\u001b[0m\u001b[0m\n\u001b[0;32m--> 115\u001b[0;31m                 \u001b[0mloss\u001b[0m \u001b[0;34m=\u001b[0m \u001b[0mself\u001b[0m\u001b[0;34m.\u001b[0m\u001b[0mtrain_on_batch\u001b[0m\u001b[0;34m(\u001b[0m\u001b[0msess\u001b[0m\u001b[0;34m,\u001b[0m \u001b[0;34m*\u001b[0m\u001b[0mbatch\u001b[0m\u001b[0;34m)\u001b[0m\u001b[0;34m\u001b[0m\u001b[0m\n\u001b[0m\u001b[1;32m    116\u001b[0m             \u001b[0mprint\u001b[0m\u001b[0;34m(\u001b[0m\u001b[0;34m'loss:'\u001b[0m\u001b[0;34m,\u001b[0m\u001b[0mloss\u001b[0m\u001b[0;34m)\u001b[0m\u001b[0;34m\u001b[0m\u001b[0m\n\u001b[1;32m    117\u001b[0m             \u001b[0;31m### END YOUR CODE\u001b[0m\u001b[0;34m\u001b[0m\u001b[0;34m\u001b[0m\u001b[0m\n",
      "\u001b[0;32m~/github/cs224n/assignment3/q1_window.py\u001b[0m in \u001b[0;36mtrain_on_batch\u001b[0;34m(self, sess, inputs_batch, labels_batch)\u001b[0m\n\u001b[1;32m    336\u001b[0m         feed = self.create_feed_dict(inputs_batch, labels_batch=labels_batch,\n\u001b[1;32m    337\u001b[0m                                      dropout=self.config.dropout)\n\u001b[0;32m--> 338\u001b[0;31m         \u001b[0m_\u001b[0m\u001b[0;34m,\u001b[0m \u001b[0mloss\u001b[0m \u001b[0;34m=\u001b[0m \u001b[0msess\u001b[0m\u001b[0;34m.\u001b[0m\u001b[0mrun\u001b[0m\u001b[0;34m(\u001b[0m\u001b[0;34m[\u001b[0m\u001b[0mself\u001b[0m\u001b[0;34m.\u001b[0m\u001b[0mtrain_op\u001b[0m\u001b[0;34m,\u001b[0m \u001b[0mself\u001b[0m\u001b[0;34m.\u001b[0m\u001b[0mloss\u001b[0m\u001b[0;34m]\u001b[0m\u001b[0;34m,\u001b[0m \u001b[0mfeed_dict\u001b[0m\u001b[0;34m=\u001b[0m\u001b[0mfeed\u001b[0m\u001b[0;34m)\u001b[0m\u001b[0;34m\u001b[0m\u001b[0m\n\u001b[0m\u001b[1;32m    339\u001b[0m         \u001b[0;32mreturn\u001b[0m \u001b[0mloss\u001b[0m\u001b[0;34m\u001b[0m\u001b[0m\n\u001b[1;32m    340\u001b[0m \u001b[0;34m\u001b[0m\u001b[0m\n",
      "\u001b[0;32m~/anaconda3/lib/python3.6/site-packages/tensorflow/python/client/session.py\u001b[0m in \u001b[0;36mrun\u001b[0;34m(self, fetches, feed_dict, options, run_metadata)\u001b[0m\n\u001b[1;32m    875\u001b[0m     \u001b[0;32mtry\u001b[0m\u001b[0;34m:\u001b[0m\u001b[0;34m\u001b[0m\u001b[0m\n\u001b[1;32m    876\u001b[0m       result = self._run(None, fetches, feed_dict, options_ptr,\n\u001b[0;32m--> 877\u001b[0;31m                          run_metadata_ptr)\n\u001b[0m\u001b[1;32m    878\u001b[0m       \u001b[0;32mif\u001b[0m \u001b[0mrun_metadata\u001b[0m\u001b[0;34m:\u001b[0m\u001b[0;34m\u001b[0m\u001b[0m\n\u001b[1;32m    879\u001b[0m         \u001b[0mproto_data\u001b[0m \u001b[0;34m=\u001b[0m \u001b[0mtf_session\u001b[0m\u001b[0;34m.\u001b[0m\u001b[0mTF_GetBuffer\u001b[0m\u001b[0;34m(\u001b[0m\u001b[0mrun_metadata_ptr\u001b[0m\u001b[0;34m)\u001b[0m\u001b[0;34m\u001b[0m\u001b[0m\n",
      "\u001b[0;32m~/anaconda3/lib/python3.6/site-packages/tensorflow/python/client/session.py\u001b[0m in \u001b[0;36m_run\u001b[0;34m(self, handle, fetches, feed_dict, options, run_metadata)\u001b[0m\n\u001b[1;32m   1098\u001b[0m     \u001b[0;32mif\u001b[0m \u001b[0mfinal_fetches\u001b[0m \u001b[0;32mor\u001b[0m \u001b[0mfinal_targets\u001b[0m \u001b[0;32mor\u001b[0m \u001b[0;34m(\u001b[0m\u001b[0mhandle\u001b[0m \u001b[0;32mand\u001b[0m \u001b[0mfeed_dict_tensor\u001b[0m\u001b[0;34m)\u001b[0m\u001b[0;34m:\u001b[0m\u001b[0;34m\u001b[0m\u001b[0m\n\u001b[1;32m   1099\u001b[0m       results = self._do_run(handle, final_targets, final_fetches,\n\u001b[0;32m-> 1100\u001b[0;31m                              feed_dict_tensor, options, run_metadata)\n\u001b[0m\u001b[1;32m   1101\u001b[0m     \u001b[0;32melse\u001b[0m\u001b[0;34m:\u001b[0m\u001b[0;34m\u001b[0m\u001b[0m\n\u001b[1;32m   1102\u001b[0m       \u001b[0mresults\u001b[0m \u001b[0;34m=\u001b[0m \u001b[0;34m[\u001b[0m\u001b[0;34m]\u001b[0m\u001b[0;34m\u001b[0m\u001b[0m\n",
      "\u001b[0;32m~/anaconda3/lib/python3.6/site-packages/tensorflow/python/client/session.py\u001b[0m in \u001b[0;36m_do_run\u001b[0;34m(self, handle, target_list, fetch_list, feed_dict, options, run_metadata)\u001b[0m\n\u001b[1;32m   1270\u001b[0m     \u001b[0;32mif\u001b[0m \u001b[0mhandle\u001b[0m \u001b[0;32mis\u001b[0m \u001b[0;32mNone\u001b[0m\u001b[0;34m:\u001b[0m\u001b[0;34m\u001b[0m\u001b[0m\n\u001b[1;32m   1271\u001b[0m       return self._do_call(_run_fn, feeds, fetches, targets, options,\n\u001b[0;32m-> 1272\u001b[0;31m                            run_metadata)\n\u001b[0m\u001b[1;32m   1273\u001b[0m     \u001b[0;32melse\u001b[0m\u001b[0;34m:\u001b[0m\u001b[0;34m\u001b[0m\u001b[0m\n\u001b[1;32m   1274\u001b[0m       \u001b[0;32mreturn\u001b[0m \u001b[0mself\u001b[0m\u001b[0;34m.\u001b[0m\u001b[0m_do_call\u001b[0m\u001b[0;34m(\u001b[0m\u001b[0m_prun_fn\u001b[0m\u001b[0;34m,\u001b[0m \u001b[0mhandle\u001b[0m\u001b[0;34m,\u001b[0m \u001b[0mfeeds\u001b[0m\u001b[0;34m,\u001b[0m \u001b[0mfetches\u001b[0m\u001b[0;34m)\u001b[0m\u001b[0;34m\u001b[0m\u001b[0m\n",
      "\u001b[0;32m~/anaconda3/lib/python3.6/site-packages/tensorflow/python/client/session.py\u001b[0m in \u001b[0;36m_do_call\u001b[0;34m(self, fn, *args)\u001b[0m\n\u001b[1;32m   1276\u001b[0m   \u001b[0;32mdef\u001b[0m \u001b[0m_do_call\u001b[0m\u001b[0;34m(\u001b[0m\u001b[0mself\u001b[0m\u001b[0;34m,\u001b[0m \u001b[0mfn\u001b[0m\u001b[0;34m,\u001b[0m \u001b[0;34m*\u001b[0m\u001b[0margs\u001b[0m\u001b[0;34m)\u001b[0m\u001b[0;34m:\u001b[0m\u001b[0;34m\u001b[0m\u001b[0m\n\u001b[1;32m   1277\u001b[0m     \u001b[0;32mtry\u001b[0m\u001b[0;34m:\u001b[0m\u001b[0;34m\u001b[0m\u001b[0m\n\u001b[0;32m-> 1278\u001b[0;31m       \u001b[0;32mreturn\u001b[0m \u001b[0mfn\u001b[0m\u001b[0;34m(\u001b[0m\u001b[0;34m*\u001b[0m\u001b[0margs\u001b[0m\u001b[0;34m)\u001b[0m\u001b[0;34m\u001b[0m\u001b[0m\n\u001b[0m\u001b[1;32m   1279\u001b[0m     \u001b[0;32mexcept\u001b[0m \u001b[0merrors\u001b[0m\u001b[0;34m.\u001b[0m\u001b[0mOpError\u001b[0m \u001b[0;32mas\u001b[0m \u001b[0me\u001b[0m\u001b[0;34m:\u001b[0m\u001b[0;34m\u001b[0m\u001b[0m\n\u001b[1;32m   1280\u001b[0m       \u001b[0mmessage\u001b[0m \u001b[0;34m=\u001b[0m \u001b[0mcompat\u001b[0m\u001b[0;34m.\u001b[0m\u001b[0mas_text\u001b[0m\u001b[0;34m(\u001b[0m\u001b[0me\u001b[0m\u001b[0;34m.\u001b[0m\u001b[0mmessage\u001b[0m\u001b[0;34m)\u001b[0m\u001b[0;34m\u001b[0m\u001b[0m\n",
      "\u001b[0;32m~/anaconda3/lib/python3.6/site-packages/tensorflow/python/client/session.py\u001b[0m in \u001b[0;36m_run_fn\u001b[0;34m(feed_dict, fetch_list, target_list, options, run_metadata)\u001b[0m\n\u001b[1;32m   1261\u001b[0m       \u001b[0mself\u001b[0m\u001b[0;34m.\u001b[0m\u001b[0m_extend_graph\u001b[0m\u001b[0;34m(\u001b[0m\u001b[0;34m)\u001b[0m\u001b[0;34m\u001b[0m\u001b[0m\n\u001b[1;32m   1262\u001b[0m       return self._call_tf_sessionrun(\n\u001b[0;32m-> 1263\u001b[0;31m           options, feed_dict, fetch_list, target_list, run_metadata)\n\u001b[0m\u001b[1;32m   1264\u001b[0m \u001b[0;34m\u001b[0m\u001b[0m\n\u001b[1;32m   1265\u001b[0m     \u001b[0;32mdef\u001b[0m \u001b[0m_prun_fn\u001b[0m\u001b[0;34m(\u001b[0m\u001b[0mhandle\u001b[0m\u001b[0;34m,\u001b[0m \u001b[0mfeed_dict\u001b[0m\u001b[0;34m,\u001b[0m \u001b[0mfetch_list\u001b[0m\u001b[0;34m)\u001b[0m\u001b[0;34m:\u001b[0m\u001b[0;34m\u001b[0m\u001b[0m\n",
      "\u001b[0;32m~/anaconda3/lib/python3.6/site-packages/tensorflow/python/client/session.py\u001b[0m in \u001b[0;36m_call_tf_sessionrun\u001b[0;34m(self, options, feed_dict, fetch_list, target_list, run_metadata)\u001b[0m\n\u001b[1;32m   1348\u001b[0m     return tf_session.TF_SessionRun_wrapper(\n\u001b[1;32m   1349\u001b[0m         \u001b[0mself\u001b[0m\u001b[0;34m.\u001b[0m\u001b[0m_session\u001b[0m\u001b[0;34m,\u001b[0m \u001b[0moptions\u001b[0m\u001b[0;34m,\u001b[0m \u001b[0mfeed_dict\u001b[0m\u001b[0;34m,\u001b[0m \u001b[0mfetch_list\u001b[0m\u001b[0;34m,\u001b[0m \u001b[0mtarget_list\u001b[0m\u001b[0;34m,\u001b[0m\u001b[0;34m\u001b[0m\u001b[0m\n\u001b[0;32m-> 1350\u001b[0;31m         run_metadata)\n\u001b[0m\u001b[1;32m   1351\u001b[0m \u001b[0;34m\u001b[0m\u001b[0m\n\u001b[1;32m   1352\u001b[0m   \u001b[0;32mdef\u001b[0m \u001b[0m_call_tf_sessionprun\u001b[0m\u001b[0;34m(\u001b[0m\u001b[0mself\u001b[0m\u001b[0;34m,\u001b[0m \u001b[0mhandle\u001b[0m\u001b[0;34m,\u001b[0m \u001b[0mfeed_dict\u001b[0m\u001b[0;34m,\u001b[0m \u001b[0mfetch_list\u001b[0m\u001b[0;34m)\u001b[0m\u001b[0;34m:\u001b[0m\u001b[0;34m\u001b[0m\u001b[0m\n",
      "\u001b[0;31mKeyboardInterrupt\u001b[0m: "
     ]
    }
   ],
   "source": [
    "%run -i q1_window.py train"
   ]
  },
  {
   "cell_type": "code",
   "execution_count": 4,
   "metadata": {},
   "outputs": [
    {
     "name": "stderr",
     "output_type": "stream",
     "text": [
      "INFO:Testing rnn_cell\n",
      "INFO:Passed!\n"
     ]
    },
    {
     "name": "stdout",
     "output_type": "stream",
     "text": [
      "y_ = [[0.8320184  0.880797  ]\n",
      " [0.7310586  0.62245935]]\n",
      "ht_ = [[0.8320184  0.880797  ]\n",
      " [0.7310586  0.62245935]]\n"
     ]
    }
   ],
   "source": [
    "%run -i q2_rnn_cell.py test"
   ]
  },
  {
   "cell_type": "code",
   "execution_count": 5,
   "metadata": {},
   "outputs": [
    {
     "name": "stderr",
     "output_type": "stream",
     "text": [
      "INFO:Testing pad_sequences\n",
      "INFO:Passed!\n"
     ]
    }
   ],
   "source": [
    "%run -i q2_rnn.py test1"
   ]
  },
  {
   "cell_type": "code",
   "execution_count": 6,
   "metadata": {},
   "outputs": [
    {
     "name": "stderr",
     "output_type": "stream",
     "text": [
      "INFO:Testing implementation of RNNModel\n",
      "INFO:Loading training data...\n",
      "INFO:Done. Read 721 sentences\n",
      "INFO:Loading dev data...\n",
      "INFO:Done. Read 721 sentences\n",
      "INFO:Built dictionary for 2653 features.\n",
      "INFO:Initialized embeddings.\n",
      "INFO:Building model...\n",
      "/home/hojoon/anaconda3/lib/python3.6/site-packages/tensorflow/python/ops/gradients_impl.py:108: UserWarning: Converting sparse IndexedSlices to a dense Tensor of unknown shape. This may consume a large amount of memory.\n",
      "  \"Converting sparse IndexedSlices to a dense Tensor of unknown shape. \"\n",
      "INFO:took 2.34 seconds\n",
      "INFO:Epoch 1 out of 10\n",
      "INFO:Evaluating on development data\n"
     ]
    },
    {
     "name": "stdout",
     "output_type": "stream",
     "text": [
      "loss: 0.557451\n",
      "23/23 [==============================] - 5s     "
     ]
    },
    {
     "name": "stderr",
     "output_type": "stream",
     "text": [
      "DEBUG:Token-level confusion matrix:\n",
      "go\\gu  \tPER    \tORG    \tLOC    \tMISC   \tO      \n",
      "PER    \t674.00 \t0.00   \t30.00  \t0.00   \t120.00 \n",
      "ORG    \t195.00 \t0.00   \t60.00  \t0.00   \t136.00 \n",
      "LOC    \t94.00  \t0.00   \t330.00 \t0.00   \t153.00 \n",
      "MISC   \t81.00  \t1.00   \t20.00  \t0.00   \t156.00 \n",
      "O      \t121.00 \t0.00   \t164.00 \t0.00   \t6831.00\n",
      "\n",
      "DEBUG:Token-level scores:\n",
      "label\tacc  \tprec \trec  \tf1   \n",
      "PER  \t0.93 \t0.58 \t0.82 \t0.68 \n",
      "ORG  \t0.00 \t0.00 \t0.00 \t0.00 \n",
      "LOC  \t0.94 \t0.55 \t0.57 \t0.56 \n",
      "MISC \t0.00 \t0.00 \t0.00 \t0.00 \n",
      "O    \t0.91 \t0.92 \t0.96 \t0.94 \n",
      "micro\t0.94 \t0.85 \t0.85 \t0.85 \n",
      "macro\t0.56 \t0.41 \t0.47 \t0.44 \n",
      "not-O\t0.95 \t0.57 \t0.49 \t0.53 \n",
      "\n",
      "INFO:Entity level P/R/F1: 0.52/0.44/0.48\n",
      "INFO:Epoch 2 out of 10\n"
     ]
    },
    {
     "name": "stdout",
     "output_type": "stream",
     "text": [
      "\n",
      "\n"
     ]
    },
    {
     "name": "stderr",
     "output_type": "stream",
     "text": [
      "INFO:Evaluating on development data\n"
     ]
    },
    {
     "name": "stdout",
     "output_type": "stream",
     "text": [
      "loss: 0.41628063\n",
      "23/23 [==============================] - 5s     "
     ]
    },
    {
     "name": "stderr",
     "output_type": "stream",
     "text": [
      "DEBUG:Token-level confusion matrix:\n",
      "go\\gu  \tPER    \tORG    \tLOC    \tMISC   \tO      \n",
      "PER    \t693.00 \t3.00   \t26.00  \t3.00   \t99.00  \n",
      "ORG    \t179.00 \t17.00  \t38.00  \t15.00  \t142.00 \n",
      "LOC    \t56.00  \t4.00   \t401.00 \t13.00  \t103.00 \n",
      "MISC   \t63.00  \t5.00   \t17.00  \t88.00  \t85.00  \n",
      "O      \t88.00  \t0.00   \t68.00  \t0.00   \t6960.00\n",
      "\n",
      "DEBUG:Token-level scores:\n",
      "label\tacc  \tprec \trec  \tf1   \n",
      "PER  \t0.94 \t0.64 \t0.84 \t0.73 \n",
      "ORG  \t0.96 \t0.59 \t0.04 \t0.08 \n",
      "LOC  \t0.96 \t0.73 \t0.69 \t0.71 \n",
      "MISC \t0.98 \t0.74 \t0.34 \t0.47 \n",
      "O    \t0.94 \t0.94 \t0.98 \t0.96 \n",
      "micro\t0.96 \t0.89 \t0.89 \t0.89 \n",
      "macro\t0.96 \t0.73 \t0.58 \t0.59 \n",
      "not-O\t0.96 \t0.67 \t0.58 \t0.63 \n",
      "\n",
      "INFO:Entity level P/R/F1: 0.60/0.54/0.57\n",
      "INFO:Epoch 3 out of 10\n"
     ]
    },
    {
     "name": "stdout",
     "output_type": "stream",
     "text": [
      "\n",
      "\n"
     ]
    },
    {
     "name": "stderr",
     "output_type": "stream",
     "text": [
      "INFO:Evaluating on development data\n"
     ]
    },
    {
     "name": "stdout",
     "output_type": "stream",
     "text": [
      "loss: 0.35970172\n",
      "23/23 [==============================] - 5s     "
     ]
    },
    {
     "name": "stderr",
     "output_type": "stream",
     "text": [
      "DEBUG:Token-level confusion matrix:\n",
      "go\\gu  \tPER    \tORG    \tLOC    \tMISC   \tO      \n",
      "PER    \t713.00 \t3.00   \t14.00  \t1.00   \t93.00  \n",
      "ORG    \t171.00 \t42.00  \t24.00  \t2.00   \t152.00 \n",
      "LOC    \t48.00  \t9.00   \t405.00 \t1.00   \t114.00 \n",
      "MISC   \t61.00  \t23.00  \t26.00  \t41.00  \t107.00 \n",
      "O      \t74.00  \t3.00   \t19.00  \t0.00   \t7020.00\n",
      "\n",
      "DEBUG:Token-level scores:\n",
      "label\tacc  \tprec \trec  \tf1   \n",
      "PER  \t0.95 \t0.67 \t0.87 \t0.75 \n",
      "ORG  \t0.96 \t0.53 \t0.11 \t0.18 \n",
      "LOC  \t0.97 \t0.83 \t0.70 \t0.76 \n",
      "MISC \t0.98 \t0.91 \t0.16 \t0.27 \n",
      "O    \t0.94 \t0.94 \t0.99 \t0.96 \n",
      "micro\t0.96 \t0.90 \t0.90 \t0.90 \n",
      "macro\t0.96 \t0.77 \t0.56 \t0.59 \n",
      "not-O\t0.96 \t0.71 \t0.59 \t0.64 \n",
      "\n",
      "INFO:Entity level P/R/F1: 0.64/0.53/0.58\n",
      "INFO:Epoch 4 out of 10\n"
     ]
    },
    {
     "name": "stdout",
     "output_type": "stream",
     "text": [
      "\n",
      "\n"
     ]
    },
    {
     "name": "stderr",
     "output_type": "stream",
     "text": [
      "INFO:Evaluating on development data\n"
     ]
    },
    {
     "name": "stdout",
     "output_type": "stream",
     "text": [
      "loss: 0.32253838\n",
      "23/23 [==============================] - 5s     "
     ]
    },
    {
     "name": "stderr",
     "output_type": "stream",
     "text": [
      "DEBUG:Token-level confusion matrix:\n",
      "go\\gu  \tPER    \tORG    \tLOC    \tMISC   \tO      \n",
      "PER    \t752.00 \t0.00   \t19.00  \t3.00   \t50.00  \n",
      "ORG    \t188.00 \t30.00  \t26.00  \t18.00  \t129.00 \n",
      "LOC    \t46.00  \t3.00   \t443.00 \t16.00  \t69.00  \n",
      "MISC   \t60.00  \t4.00   \t15.00  \t105.00 \t74.00  \n",
      "O      \t77.00  \t3.00   \t18.00  \t2.00   \t7016.00\n",
      "\n",
      "DEBUG:Token-level scores:\n",
      "label\tacc  \tprec \trec  \tf1   \n",
      "PER  \t0.95 \t0.67 \t0.91 \t0.77 \n",
      "ORG  \t0.96 \t0.75 \t0.08 \t0.14 \n",
      "LOC  \t0.98 \t0.85 \t0.77 \t0.81 \n",
      "MISC \t0.98 \t0.73 \t0.41 \t0.52 \n",
      "O    \t0.95 \t0.96 \t0.99 \t0.97 \n",
      "micro\t0.96 \t0.91 \t0.91 \t0.91 \n",
      "macro\t0.96 \t0.79 \t0.63 \t0.64 \n",
      "not-O\t0.97 \t0.73 \t0.65 \t0.69 \n",
      "\n",
      "INFO:Entity level P/R/F1: 0.66/0.61/0.63\n",
      "INFO:Epoch 5 out of 10\n"
     ]
    },
    {
     "name": "stdout",
     "output_type": "stream",
     "text": [
      "\n",
      "\n"
     ]
    },
    {
     "name": "stderr",
     "output_type": "stream",
     "text": [
      "INFO:Evaluating on development data\n"
     ]
    },
    {
     "name": "stdout",
     "output_type": "stream",
     "text": [
      "loss: 0.29124352\n",
      "23/23 [==============================] - 5s     "
     ]
    },
    {
     "name": "stderr",
     "output_type": "stream",
     "text": [
      "DEBUG:Token-level confusion matrix:\n",
      "go\\gu  \tPER    \tORG    \tLOC    \tMISC   \tO      \n",
      "PER    \t763.00 \t0.00   \t17.00  \t3.00   \t41.00  \n",
      "ORG    \t189.00 \t25.00  \t31.00  \t25.00  \t121.00 \n",
      "LOC    \t42.00  \t3.00   \t476.00 \t10.00  \t46.00  \n",
      "MISC   \t49.00  \t2.00   \t18.00  \t127.00 \t62.00  \n",
      "O      \t71.00  \t3.00   \t17.00  \t2.00   \t7023.00\n",
      "\n",
      "DEBUG:Token-level scores:\n",
      "label\tacc  \tprec \trec  \tf1   \n",
      "PER  \t0.96 \t0.68 \t0.93 \t0.79 \n",
      "ORG  \t0.96 \t0.76 \t0.06 \t0.12 \n",
      "LOC  \t0.98 \t0.85 \t0.82 \t0.84 \n",
      "MISC \t0.98 \t0.76 \t0.49 \t0.60 \n",
      "O    \t0.96 \t0.96 \t0.99 \t0.97 \n",
      "micro\t0.97 \t0.92 \t0.92 \t0.92 \n",
      "macro\t0.97 \t0.80 \t0.66 \t0.66 \n",
      "not-O\t0.97 \t0.74 \t0.68 \t0.71 \n",
      "\n",
      "INFO:Entity level P/R/F1: 0.67/0.64/0.66\n",
      "INFO:Epoch 6 out of 10\n"
     ]
    },
    {
     "name": "stdout",
     "output_type": "stream",
     "text": [
      "\n",
      "\n"
     ]
    },
    {
     "name": "stderr",
     "output_type": "stream",
     "text": [
      "INFO:Evaluating on development data\n"
     ]
    },
    {
     "name": "stdout",
     "output_type": "stream",
     "text": [
      "loss: 0.26558128\n",
      "23/23 [==============================] - 5s     "
     ]
    },
    {
     "name": "stderr",
     "output_type": "stream",
     "text": [
      "DEBUG:Token-level confusion matrix:\n",
      "go\\gu  \tPER    \tORG    \tLOC    \tMISC   \tO      \n",
      "PER    \t763.00 \t4.00   \t11.00  \t2.00   \t44.00  \n",
      "ORG    \t143.00 \t94.00  \t25.00  \t18.00  \t111.00 \n",
      "LOC    \t37.00  \t9.00   \t476.00 \t7.00   \t48.00  \n",
      "MISC   \t40.00  \t18.00  \t13.00  \t133.00 \t54.00  \n",
      "O      \t59.00  \t7.00   \t6.00   \t1.00   \t7043.00\n",
      "\n",
      "DEBUG:Token-level scores:\n",
      "label\tacc  \tprec \trec  \tf1   \n",
      "PER  \t0.96 \t0.73 \t0.93 \t0.82 \n",
      "ORG  \t0.96 \t0.71 \t0.24 \t0.36 \n",
      "LOC  \t0.98 \t0.90 \t0.82 \t0.86 \n",
      "MISC \t0.98 \t0.83 \t0.52 \t0.63 \n",
      "O    \t0.96 \t0.96 \t0.99 \t0.98 \n",
      "micro\t0.97 \t0.93 \t0.93 \t0.93 \n",
      "macro\t0.97 \t0.83 \t0.70 \t0.73 \n",
      "not-O\t0.97 \t0.79 \t0.72 \t0.75 \n",
      "\n",
      "INFO:Entity level P/R/F1: 0.69/0.66/0.67\n",
      "INFO:Epoch 7 out of 10\n"
     ]
    },
    {
     "name": "stdout",
     "output_type": "stream",
     "text": [
      "\n",
      "\n"
     ]
    },
    {
     "name": "stderr",
     "output_type": "stream",
     "text": [
      "INFO:Evaluating on development data\n"
     ]
    },
    {
     "name": "stdout",
     "output_type": "stream",
     "text": [
      "loss: 0.29398796\n",
      "23/23 [==============================] - 5s     "
     ]
    },
    {
     "name": "stderr",
     "output_type": "stream",
     "text": [
      "DEBUG:Token-level confusion matrix:\n",
      "go\\gu  \tPER    \tORG    \tLOC    \tMISC   \tO      \n",
      "PER    \t770.00 \t7.00   \t8.00   \t2.00   \t37.00  \n",
      "ORG    \t120.00 \t118.00 \t25.00  \t24.00  \t104.00 \n",
      "LOC    \t22.00  \t14.00  \t495.00 \t16.00  \t30.00  \n",
      "MISC   \t32.00  \t18.00  \t8.00   \t153.00 \t47.00  \n",
      "O      \t51.00  \t11.00  \t4.00   \t3.00   \t7047.00\n",
      "\n",
      "DEBUG:Token-level scores:\n",
      "label\tacc  \tprec \trec  \tf1   \n",
      "PER  \t0.97 \t0.77 \t0.93 \t0.85 \n",
      "ORG  \t0.96 \t0.70 \t0.30 \t0.42 \n",
      "LOC  \t0.99 \t0.92 \t0.86 \t0.89 \n",
      "MISC \t0.98 \t0.77 \t0.59 \t0.67 \n",
      "O    \t0.97 \t0.97 \t0.99 \t0.98 \n",
      "micro\t0.97 \t0.94 \t0.94 \t0.94 \n",
      "macro\t0.97 \t0.83 \t0.74 \t0.76 \n",
      "not-O\t0.98 \t0.81 \t0.75 \t0.78 \n",
      "\n",
      "INFO:Entity level P/R/F1: 0.70/0.70/0.70\n",
      "INFO:Epoch 8 out of 10\n"
     ]
    },
    {
     "name": "stdout",
     "output_type": "stream",
     "text": [
      "\n",
      "\n"
     ]
    },
    {
     "name": "stderr",
     "output_type": "stream",
     "text": [
      "INFO:Evaluating on development data\n"
     ]
    },
    {
     "name": "stdout",
     "output_type": "stream",
     "text": [
      "loss: 0.27276602\n",
      "23/23 [==============================] - 5s     "
     ]
    },
    {
     "name": "stderr",
     "output_type": "stream",
     "text": [
      "DEBUG:Token-level confusion matrix:\n",
      "go\\gu  \tPER    \tORG    \tLOC    \tMISC   \tO      \n",
      "PER    \t769.00 \t8.00   \t6.00   \t2.00   \t39.00  \n",
      "ORG    \t89.00  \t159.00 \t24.00  \t17.00  \t102.00 \n",
      "LOC    \t16.00  \t21.00  \t498.00 \t6.00   \t36.00  \n",
      "MISC   \t30.00  \t21.00  \t10.00  \t148.00 \t49.00  \n",
      "O      \t35.00  \t18.00  \t3.00   \t0.00   \t7060.00\n",
      "\n",
      "DEBUG:Token-level scores:\n",
      "label\tacc  \tprec \trec  \tf1   \n",
      "PER  \t0.98 \t0.82 \t0.93 \t0.87 \n",
      "ORG  \t0.97 \t0.70 \t0.41 \t0.51 \n",
      "LOC  \t0.99 \t0.92 \t0.86 \t0.89 \n",
      "MISC \t0.99 \t0.86 \t0.57 \t0.69 \n",
      "O    \t0.97 \t0.97 \t0.99 \t0.98 \n",
      "micro\t0.98 \t0.94 \t0.94 \t0.94 \n",
      "macro\t0.98 \t0.85 \t0.75 \t0.79 \n",
      "not-O\t0.98 \t0.84 \t0.77 \t0.80 \n",
      "\n",
      "INFO:Entity level P/R/F1: 0.73/0.71/0.72\n",
      "INFO:Epoch 9 out of 10\n"
     ]
    },
    {
     "name": "stdout",
     "output_type": "stream",
     "text": [
      "\n",
      "\n"
     ]
    },
    {
     "name": "stderr",
     "output_type": "stream",
     "text": [
      "INFO:Evaluating on development data\n"
     ]
    },
    {
     "name": "stdout",
     "output_type": "stream",
     "text": [
      "loss: 0.1897948\n",
      "23/23 [==============================] - 5s     "
     ]
    },
    {
     "name": "stderr",
     "output_type": "stream",
     "text": [
      "DEBUG:Token-level confusion matrix:\n",
      "go\\gu  \tPER    \tORG    \tLOC    \tMISC   \tO      \n",
      "PER    \t783.00 \t1.00   \t9.00   \t1.00   \t30.00  \n",
      "ORG    \t101.00 \t152.00 \t31.00  \t16.00  \t91.00  \n",
      "LOC    \t17.00  \t11.00  \t521.00 \t4.00   \t24.00  \n",
      "MISC   \t31.00  \t14.00  \t18.00  \t152.00 \t43.00  \n",
      "O      \t42.00  \t12.00  \t5.00   \t2.00   \t7055.00\n",
      "\n",
      "DEBUG:Token-level scores:\n",
      "label\tacc  \tprec \trec  \tf1   \n",
      "PER  \t0.97 \t0.80 \t0.95 \t0.87 \n",
      "ORG  \t0.97 \t0.80 \t0.39 \t0.52 \n",
      "LOC  \t0.99 \t0.89 \t0.90 \t0.90 \n",
      "MISC \t0.99 \t0.87 \t0.59 \t0.70 \n",
      "O    \t0.97 \t0.97 \t0.99 \t0.98 \n",
      "micro\t0.98 \t0.95 \t0.95 \t0.95 \n",
      "macro\t0.98 \t0.87 \t0.76 \t0.80 \n",
      "not-O\t0.98 \t0.84 \t0.78 \t0.81 \n",
      "\n",
      "INFO:Entity level P/R/F1: 0.74/0.73/0.74\n",
      "INFO:Epoch 10 out of 10\n"
     ]
    },
    {
     "name": "stdout",
     "output_type": "stream",
     "text": [
      "\n",
      "\n"
     ]
    },
    {
     "name": "stderr",
     "output_type": "stream",
     "text": [
      "INFO:Evaluating on development data\n"
     ]
    },
    {
     "name": "stdout",
     "output_type": "stream",
     "text": [
      "loss: 0.15244596\n",
      "23/23 [==============================] - 5s     "
     ]
    },
    {
     "name": "stderr",
     "output_type": "stream",
     "text": [
      "DEBUG:Token-level confusion matrix:\n",
      "go\\gu  \tPER    \tORG    \tLOC    \tMISC   \tO      \n",
      "PER    \t789.00 \t7.00   \t6.00   \t3.00   \t19.00  \n",
      "ORG    \t67.00  \t218.00 \t24.00  \t20.00  \t62.00  \n",
      "LOC    \t12.00  \t23.00  \t514.00 \t8.00   \t20.00  \n",
      "MISC   \t24.00  \t25.00  \t7.00   \t170.00 \t32.00  \n",
      "O      \t25.00  \t27.00  \t3.00   \t1.00   \t7060.00\n",
      "\n",
      "DEBUG:Token-level scores:\n",
      "label\tacc  \tprec \trec  \tf1   \n",
      "PER  \t0.98 \t0.86 \t0.96 \t0.91 \n",
      "ORG  \t0.97 \t0.73 \t0.56 \t0.63 \n",
      "LOC  \t0.99 \t0.93 \t0.89 \t0.91 \n",
      "MISC \t0.99 \t0.84 \t0.66 \t0.74 \n",
      "O    \t0.98 \t0.98 \t0.99 \t0.99 \n",
      "micro\t0.98 \t0.95 \t0.95 \t0.95 \n",
      "macro\t0.98 \t0.87 \t0.81 \t0.83 \n",
      "not-O\t0.98 \t0.86 \t0.82 \t0.84 \n",
      "\n",
      "INFO:Entity level P/R/F1: 0.75/0.78/0.77\n",
      "INFO:Model did not crash!\n",
      "INFO:Passed!\n"
     ]
    },
    {
     "name": "stdout",
     "output_type": "stream",
     "text": [
      "\n",
      "\n"
     ]
    }
   ],
   "source": [
    "%run -i q2_rnn.py test2"
   ]
  },
  {
   "cell_type": "code",
   "execution_count": 7,
   "metadata": {},
   "outputs": [
    {
     "name": "stderr",
     "output_type": "stream",
     "text": [
      "INFO:Loading training data...\n",
      "INFO:Done. Read 14041 sentences\n",
      "INFO:Loading dev data...\n",
      "INFO:Done. Read 3250 sentences\n",
      "INFO:Built dictionary for 10007 features.\n",
      "INFO:Initialized embeddings.\n",
      "INFO:Building model...\n",
      "/home/hojoon/anaconda3/lib/python3.6/site-packages/tensorflow/python/ops/gradients_impl.py:108: UserWarning: Converting sparse IndexedSlices to a dense Tensor of unknown shape. This may consume a large amount of memory.\n",
      "  \"Converting sparse IndexedSlices to a dense Tensor of unknown shape. \"\n",
      "INFO:took 4.78 seconds\n",
      "INFO:Epoch 1 out of 10\n",
      "INFO:Evaluating on development data\n"
     ]
    },
    {
     "name": "stdout",
     "output_type": "stream",
     "text": [
      "loss: 0.15358794\n",
      "102/102 [==============================] - 55s    "
     ]
    },
    {
     "name": "stderr",
     "output_type": "stream",
     "text": [
      "DEBUG:Token-level confusion matrix:\n",
      "go\\gu   \tPER     \tORG     \tLOC     \tMISC    \tO       \n",
      "PER     \t2813.00 \t91.00   \t105.00  \t6.00    \t134.00  \n",
      "ORG     \t274.00  \t1242.00 \t278.00  \t77.00   \t221.00  \n",
      "LOC     \t103.00  \t251.00  \t1614.00 \t45.00   \t81.00   \n",
      "MISC    \t65.00   \t236.00  \t133.00  \t671.00  \t163.00  \n",
      "O       \t86.00   \t107.00  \t34.00   \t22.00   \t42510.00\n",
      "\n",
      "DEBUG:Token-level scores:\n",
      "label\tacc  \tprec \trec  \tf1   \n",
      "PER  \t0.98 \t0.84 \t0.89 \t0.87 \n",
      "ORG  \t0.97 \t0.64 \t0.59 \t0.62 \n",
      "LOC  \t0.98 \t0.75 \t0.77 \t0.76 \n",
      "MISC \t0.99 \t0.82 \t0.53 \t0.64 \n",
      "O    \t0.98 \t0.99 \t0.99 \t0.99 \n",
      "micro\t0.98 \t0.95 \t0.95 \t0.95 \n",
      "macro\t0.98 \t0.81 \t0.76 \t0.78 \n",
      "not-O\t0.98 \t0.77 \t0.74 \t0.75 \n",
      "\n",
      "INFO:Entity level P/R/F1: 0.66/0.69/0.68\n",
      "INFO:New best score! Saving model in results/rnn/20180826_125334/model.weights\n"
     ]
    },
    {
     "name": "stdout",
     "output_type": "stream",
     "text": [
      "\n"
     ]
    },
    {
     "name": "stderr",
     "output_type": "stream",
     "text": [
      "INFO:Epoch 2 out of 10\n"
     ]
    },
    {
     "name": "stdout",
     "output_type": "stream",
     "text": [
      "\n"
     ]
    },
    {
     "name": "stderr",
     "output_type": "stream",
     "text": [
      "INFO:Evaluating on development data\n"
     ]
    },
    {
     "name": "stdout",
     "output_type": "stream",
     "text": [
      "loss: 0.13381857\n",
      "102/102 [==============================] - 54s    "
     ]
    },
    {
     "name": "stderr",
     "output_type": "stream",
     "text": [
      "DEBUG:Token-level confusion matrix:\n",
      "go\\gu   \tPER     \tORG     \tLOC     \tMISC    \tO       \n",
      "PER     \t2947.00 \t44.00   \t51.00   \t18.00   \t89.00   \n",
      "ORG     \t229.00  \t1438.00 \t131.00  \t121.00  \t173.00  \n",
      "LOC     \t87.00   \t277.00  \t1633.00 \t46.00   \t51.00   \n",
      "MISC    \t59.00   \t94.00   \t56.00   \t940.00  \t119.00  \n",
      "O       \t69.00   \t72.00   \t17.00   \t47.00   \t42554.00\n",
      "\n",
      "DEBUG:Token-level scores:\n",
      "label\tacc  \tprec \trec  \tf1   \n",
      "PER  \t0.99 \t0.87 \t0.94 \t0.90 \n",
      "ORG  \t0.98 \t0.75 \t0.69 \t0.72 \n",
      "LOC  \t0.99 \t0.86 \t0.78 \t0.82 \n",
      "MISC \t0.99 \t0.80 \t0.74 \t0.77 \n",
      "O    \t0.99 \t0.99 \t1.00 \t0.99 \n",
      "micro\t0.99 \t0.96 \t0.96 \t0.96 \n",
      "macro\t0.99 \t0.85 \t0.83 \t0.84 \n",
      "not-O\t0.99 \t0.83 \t0.81 \t0.82 \n",
      "\n",
      "INFO:Entity level P/R/F1: 0.74/0.77/0.76\n",
      "INFO:New best score! Saving model in results/rnn/20180826_125334/model.weights\n"
     ]
    },
    {
     "name": "stdout",
     "output_type": "stream",
     "text": [
      "\n"
     ]
    },
    {
     "name": "stderr",
     "output_type": "stream",
     "text": [
      "INFO:Epoch 3 out of 10\n"
     ]
    },
    {
     "name": "stdout",
     "output_type": "stream",
     "text": [
      "\n"
     ]
    },
    {
     "name": "stderr",
     "output_type": "stream",
     "text": [
      "INFO:Evaluating on development data\n"
     ]
    },
    {
     "name": "stdout",
     "output_type": "stream",
     "text": [
      "loss: 0.10100624\n",
      "102/102 [==============================] - 55s    "
     ]
    },
    {
     "name": "stderr",
     "output_type": "stream",
     "text": [
      "DEBUG:Token-level confusion matrix:\n",
      "go\\gu   \tPER     \tORG     \tLOC     \tMISC    \tO       \n",
      "PER     \t2810.00 \t97.00   \t103.00  \t14.00   \t125.00  \n",
      "ORG     \t110.00  \t1631.00 \t132.00  \t47.00   \t172.00  \n",
      "LOC     \t20.00   \t192.00  \t1809.00 \t13.00   \t60.00   \n",
      "MISC    \t29.00   \t125.00  \t75.00   \t918.00  \t121.00  \n",
      "O       \t36.00   \t85.00   \t20.00   \t29.00   \t42589.00\n",
      "\n",
      "DEBUG:Token-level scores:\n",
      "label\tacc  \tprec \trec  \tf1   \n",
      "PER  \t0.99 \t0.94 \t0.89 \t0.91 \n",
      "ORG  \t0.98 \t0.77 \t0.78 \t0.77 \n",
      "LOC  \t0.99 \t0.85 \t0.86 \t0.85 \n",
      "MISC \t0.99 \t0.90 \t0.72 \t0.80 \n",
      "O    \t0.99 \t0.99 \t1.00 \t0.99 \n",
      "micro\t0.99 \t0.97 \t0.97 \t0.97 \n",
      "macro\t0.99 \t0.89 \t0.85 \t0.87 \n",
      "not-O\t0.99 \t0.86 \t0.83 \t0.85 \n",
      "\n",
      "INFO:Entity level P/R/F1: 0.78/0.80/0.79\n",
      "INFO:New best score! Saving model in results/rnn/20180826_125334/model.weights\n"
     ]
    },
    {
     "name": "stdout",
     "output_type": "stream",
     "text": [
      "\n"
     ]
    },
    {
     "name": "stderr",
     "output_type": "stream",
     "text": [
      "INFO:Epoch 4 out of 10\n"
     ]
    },
    {
     "name": "stdout",
     "output_type": "stream",
     "text": [
      "\n"
     ]
    },
    {
     "name": "stderr",
     "output_type": "stream",
     "text": [
      "INFO:Evaluating on development data\n"
     ]
    },
    {
     "name": "stdout",
     "output_type": "stream",
     "text": [
      "loss: 0.1210309\n",
      "102/102 [==============================] - 51s    "
     ]
    },
    {
     "name": "stderr",
     "output_type": "stream",
     "text": [
      "DEBUG:Token-level confusion matrix:\n",
      "go\\gu   \tPER     \tORG     \tLOC     \tMISC    \tO       \n",
      "PER     \t2967.00 \t31.00   \t42.00   \t11.00   \t98.00   \n",
      "ORG     \t168.00  \t1645.00 \t88.00   \t47.00   \t144.00  \n",
      "LOC     \t52.00   \t193.00  \t1784.00 \t14.00   \t51.00   \n",
      "MISC    \t53.00   \t91.00   \t55.00   \t956.00  \t113.00  \n",
      "O       \t46.00   \t62.00   \t13.00   \t35.00   \t42603.00\n",
      "\n",
      "DEBUG:Token-level scores:\n",
      "label\tacc  \tprec \trec  \tf1   \n",
      "PER  \t0.99 \t0.90 \t0.94 \t0.92 \n",
      "ORG  \t0.98 \t0.81 \t0.79 \t0.80 \n",
      "LOC  \t0.99 \t0.90 \t0.85 \t0.88 \n",
      "MISC \t0.99 \t0.90 \t0.75 \t0.82 \n",
      "O    \t0.99 \t0.99 \t1.00 \t0.99 \n",
      "micro\t0.99 \t0.97 \t0.97 \t0.97 \n",
      "macro\t0.99 \t0.90 \t0.87 \t0.88 \n",
      "not-O\t0.99 \t0.88 \t0.85 \t0.87 \n",
      "\n",
      "INFO:Entity level P/R/F1: 0.81/0.83/0.82\n",
      "INFO:New best score! Saving model in results/rnn/20180826_125334/model.weights\n"
     ]
    },
    {
     "name": "stdout",
     "output_type": "stream",
     "text": [
      "\n"
     ]
    },
    {
     "name": "stderr",
     "output_type": "stream",
     "text": [
      "INFO:Epoch 5 out of 10\n"
     ]
    },
    {
     "name": "stdout",
     "output_type": "stream",
     "text": [
      "\n"
     ]
    },
    {
     "name": "stderr",
     "output_type": "stream",
     "text": [
      "INFO:Evaluating on development data\n"
     ]
    },
    {
     "name": "stdout",
     "output_type": "stream",
     "text": [
      "loss: 0.05792028\n",
      "102/102 [==============================] - 52s    "
     ]
    },
    {
     "name": "stderr",
     "output_type": "stream",
     "text": [
      "DEBUG:Token-level confusion matrix:\n",
      "go\\gu   \tPER     \tORG     \tLOC     \tMISC    \tO       \n",
      "PER     \t2990.00 \t37.00   \t51.00   \t13.00   \t58.00   \n",
      "ORG     \t159.00  \t1685.00 \t77.00   \t51.00   \t120.00  \n",
      "LOC     \t48.00   \t157.00  \t1839.00 \t15.00   \t35.00   \n",
      "MISC    \t38.00   \t88.00   \t49.00   \t987.00  \t106.00  \n",
      "O       \t54.00   \t72.00   \t14.00   \t31.00   \t42588.00\n",
      "\n",
      "DEBUG:Token-level scores:\n",
      "label\tacc  \tprec \trec  \tf1   \n",
      "PER  \t0.99 \t0.91 \t0.95 \t0.93 \n",
      "ORG  \t0.99 \t0.83 \t0.81 \t0.82 \n",
      "LOC  \t0.99 \t0.91 \t0.88 \t0.89 \n",
      "MISC \t0.99 \t0.90 \t0.78 \t0.83 \n",
      "O    \t0.99 \t0.99 \t1.00 \t0.99 \n",
      "micro\t0.99 \t0.98 \t0.98 \t0.98 \n",
      "macro\t0.99 \t0.91 \t0.88 \t0.89 \n",
      "not-O\t0.99 \t0.89 \t0.87 \t0.88 \n",
      "\n",
      "INFO:Entity level P/R/F1: 0.82/0.85/0.83\n",
      "INFO:New best score! Saving model in results/rnn/20180826_125334/model.weights\n"
     ]
    },
    {
     "name": "stdout",
     "output_type": "stream",
     "text": [
      "\n"
     ]
    },
    {
     "name": "stderr",
     "output_type": "stream",
     "text": [
      "INFO:Epoch 6 out of 10\n"
     ]
    },
    {
     "name": "stdout",
     "output_type": "stream",
     "text": [
      "\n"
     ]
    },
    {
     "name": "stderr",
     "output_type": "stream",
     "text": [
      "INFO:Evaluating on development data\n"
     ]
    },
    {
     "name": "stdout",
     "output_type": "stream",
     "text": [
      "loss: 0.030756831\n",
      "102/102 [==============================] - 52s    "
     ]
    },
    {
     "name": "stderr",
     "output_type": "stream",
     "text": [
      "DEBUG:Token-level confusion matrix:\n",
      "go\\gu   \tPER     \tORG     \tLOC     \tMISC    \tO       \n",
      "PER     \t2940.00 \t64.00   \t64.00   \t22.00   \t59.00   \n",
      "ORG     \t119.00  \t1689.00 \t69.00   \t92.00   \t123.00  \n",
      "LOC     \t43.00   \t123.00  \t1862.00 \t31.00   \t35.00   \n",
      "MISC    \t29.00   \t67.00   \t41.00   \t1030.00 \t101.00  \n",
      "O       \t33.00   \t57.00   \t18.00   \t45.00   \t42606.00\n",
      "\n",
      "DEBUG:Token-level scores:\n",
      "label\tacc  \tprec \trec  \tf1   \n",
      "PER  \t0.99 \t0.93 \t0.93 \t0.93 \n",
      "ORG  \t0.99 \t0.84 \t0.81 \t0.83 \n",
      "LOC  \t0.99 \t0.91 \t0.89 \t0.90 \n",
      "MISC \t0.99 \t0.84 \t0.81 \t0.83 \n",
      "O    \t0.99 \t0.99 \t1.00 \t0.99 \n",
      "micro\t0.99 \t0.98 \t0.98 \t0.98 \n",
      "macro\t0.99 \t0.90 \t0.89 \t0.90 \n",
      "not-O\t0.99 \t0.89 \t0.87 \t0.88 \n",
      "\n",
      "INFO:Entity level P/R/F1: 0.83/0.85/0.84\n",
      "INFO:New best score! Saving model in results/rnn/20180826_125334/model.weights\n"
     ]
    },
    {
     "name": "stdout",
     "output_type": "stream",
     "text": [
      "\n"
     ]
    },
    {
     "name": "stderr",
     "output_type": "stream",
     "text": [
      "INFO:Epoch 7 out of 10\n"
     ]
    },
    {
     "name": "stdout",
     "output_type": "stream",
     "text": [
      "\n"
     ]
    },
    {
     "name": "stderr",
     "output_type": "stream",
     "text": [
      "INFO:Evaluating on development data\n"
     ]
    },
    {
     "name": "stdout",
     "output_type": "stream",
     "text": [
      "loss: 0.019635871\n",
      "102/102 [==============================] - 52s    "
     ]
    },
    {
     "name": "stderr",
     "output_type": "stream",
     "text": [
      "DEBUG:Token-level confusion matrix:\n",
      "go\\gu   \tPER     \tORG     \tLOC     \tMISC    \tO       \n",
      "PER     \t3001.00 \t27.00   \t26.00   \t11.00   \t84.00   \n",
      "ORG     \t148.00  \t1623.00 \t87.00   \t62.00   \t172.00  \n",
      "LOC     \t65.00   \t104.00  \t1862.00 \t15.00   \t48.00   \n",
      "MISC    \t45.00   \t51.00   \t45.00   \t994.00  \t133.00  \n",
      "O       \t37.00   \t26.00   \t6.00    \t29.00   \t42661.00\n",
      "\n",
      "DEBUG:Token-level scores:\n",
      "label\tacc  \tprec \trec  \tf1   \n",
      "PER  \t0.99 \t0.91 \t0.95 \t0.93 \n",
      "ORG  \t0.99 \t0.89 \t0.78 \t0.83 \n",
      "LOC  \t0.99 \t0.92 \t0.89 \t0.90 \n",
      "MISC \t0.99 \t0.89 \t0.78 \t0.84 \n",
      "O    \t0.99 \t0.99 \t1.00 \t0.99 \n",
      "micro\t0.99 \t0.98 \t0.98 \t0.98 \n",
      "macro\t0.99 \t0.92 \t0.88 \t0.90 \n",
      "not-O\t0.99 \t0.91 \t0.87 \t0.89 \n",
      "\n",
      "INFO:Entity level P/R/F1: 0.84/0.85/0.84\n",
      "INFO:New best score! Saving model in results/rnn/20180826_125334/model.weights\n"
     ]
    },
    {
     "name": "stdout",
     "output_type": "stream",
     "text": [
      "\n"
     ]
    },
    {
     "name": "stderr",
     "output_type": "stream",
     "text": [
      "INFO:Epoch 8 out of 10\n"
     ]
    },
    {
     "name": "stdout",
     "output_type": "stream",
     "text": [
      "\n"
     ]
    },
    {
     "name": "stderr",
     "output_type": "stream",
     "text": [
      "INFO:Evaluating on development data\n"
     ]
    },
    {
     "name": "stdout",
     "output_type": "stream",
     "text": [
      "loss: 0.025128404\n",
      "102/102 [==============================] - 53s    "
     ]
    },
    {
     "name": "stderr",
     "output_type": "stream",
     "text": [
      "DEBUG:Token-level confusion matrix:\n",
      "go\\gu   \tPER     \tORG     \tLOC     \tMISC    \tO       \n",
      "PER     \t3017.00 \t34.00   \t24.00   \t9.00    \t65.00   \n",
      "ORG     \t136.00  \t1712.00 \t53.00   \t49.00   \t142.00  \n",
      "LOC     \t60.00   \t170.00  \t1807.00 \t10.00   \t47.00   \n",
      "MISC    \t40.00   \t77.00   \t36.00   \t983.00  \t132.00  \n",
      "O       \t43.00   \t38.00   \t10.00   \t17.00   \t42651.00\n",
      "\n",
      "DEBUG:Token-level scores:\n",
      "label\tacc  \tprec \trec  \tf1   \n",
      "PER  \t0.99 \t0.92 \t0.96 \t0.94 \n",
      "ORG  \t0.99 \t0.84 \t0.82 \t0.83 \n",
      "LOC  \t0.99 \t0.94 \t0.86 \t0.90 \n",
      "MISC \t0.99 \t0.92 \t0.78 \t0.84 \n",
      "O    \t0.99 \t0.99 \t1.00 \t0.99 \n",
      "micro\t0.99 \t0.98 \t0.98 \t0.98 \n",
      "macro\t0.99 \t0.92 \t0.88 \t0.90 \n",
      "not-O\t0.99 \t0.90 \t0.87 \t0.89 \n",
      "\n",
      "INFO:Entity level P/R/F1: 0.84/0.85/0.85\n",
      "INFO:New best score! Saving model in results/rnn/20180826_125334/model.weights\n"
     ]
    },
    {
     "name": "stdout",
     "output_type": "stream",
     "text": [
      "\n"
     ]
    },
    {
     "name": "stderr",
     "output_type": "stream",
     "text": [
      "INFO:Epoch 9 out of 10\n"
     ]
    },
    {
     "name": "stdout",
     "output_type": "stream",
     "text": [
      "\n"
     ]
    },
    {
     "name": "stderr",
     "output_type": "stream",
     "text": [
      "INFO:Evaluating on development data\n"
     ]
    },
    {
     "name": "stdout",
     "output_type": "stream",
     "text": [
      "loss: 0.035503134\n",
      "102/102 [==============================] - 53s    "
     ]
    },
    {
     "name": "stderr",
     "output_type": "stream",
     "text": [
      "DEBUG:Token-level confusion matrix:\n",
      "go\\gu   \tPER     \tORG     \tLOC     \tMISC    \tO       \n",
      "PER     \t2925.00 \t72.00   \t72.00   \t13.00   \t67.00   \n",
      "ORG     \t89.00   \t1740.00 \t76.00   \t73.00   \t114.00  \n",
      "LOC     \t28.00   \t115.00  \t1898.00 \t15.00   \t38.00   \n",
      "MISC    \t25.00   \t71.00   \t43.00   \t1020.00 \t109.00  \n",
      "O       \t30.00   \t51.00   \t18.00   \t30.00   \t42630.00\n",
      "\n",
      "DEBUG:Token-level scores:\n",
      "label\tacc  \tprec \trec  \tf1   \n",
      "PER  \t0.99 \t0.94 \t0.93 \t0.94 \n",
      "ORG  \t0.99 \t0.85 \t0.83 \t0.84 \n",
      "LOC  \t0.99 \t0.90 \t0.91 \t0.90 \n",
      "MISC \t0.99 \t0.89 \t0.80 \t0.84 \n",
      "O    \t0.99 \t0.99 \t1.00 \t0.99 \n",
      "micro\t0.99 \t0.98 \t0.98 \t0.98 \n",
      "macro\t0.99 \t0.91 \t0.89 \t0.90 \n",
      "not-O\t0.99 \t0.90 \t0.88 \t0.89 \n",
      "\n",
      "INFO:Entity level P/R/F1: 0.84/0.86/0.85\n",
      "INFO:New best score! Saving model in results/rnn/20180826_125334/model.weights\n"
     ]
    },
    {
     "name": "stdout",
     "output_type": "stream",
     "text": [
      "\n"
     ]
    },
    {
     "name": "stderr",
     "output_type": "stream",
     "text": [
      "INFO:Epoch 10 out of 10\n"
     ]
    },
    {
     "name": "stdout",
     "output_type": "stream",
     "text": [
      "\n"
     ]
    },
    {
     "name": "stderr",
     "output_type": "stream",
     "text": [
      "INFO:Evaluating on development data\n"
     ]
    },
    {
     "name": "stdout",
     "output_type": "stream",
     "text": [
      "loss: 0.026081705\n",
      "102/102 [==============================] - 54s    "
     ]
    },
    {
     "name": "stderr",
     "output_type": "stream",
     "text": [
      "DEBUG:Token-level confusion matrix:\n",
      "go\\gu   \tPER     \tORG     \tLOC     \tMISC    \tO       \n",
      "PER     \t2951.00 \t77.00   \t48.00   \t12.00   \t61.00   \n",
      "ORG     \t93.00   \t1757.00 \t74.00   \t67.00   \t101.00  \n",
      "LOC     \t33.00   \t105.00  \t1916.00 \t7.00    \t33.00   \n",
      "MISC    \t26.00   \t74.00   \t53.00   \t1010.00 \t105.00  \n",
      "O       \t38.00   \t62.00   \t20.00   \t31.00   \t42608.00\n",
      "\n",
      "DEBUG:Token-level scores:\n",
      "label\tacc  \tprec \trec  \tf1   \n",
      "PER  \t0.99 \t0.94 \t0.94 \t0.94 \n",
      "ORG  \t0.99 \t0.85 \t0.84 \t0.84 \n",
      "LOC  \t0.99 \t0.91 \t0.91 \t0.91 \n",
      "MISC \t0.99 \t0.90 \t0.80 \t0.84 \n",
      "O    \t0.99 \t0.99 \t1.00 \t0.99 \n",
      "micro\t0.99 \t0.98 \t0.98 \t0.98 \n",
      "macro\t0.99 \t0.92 \t0.90 \t0.91 \n",
      "not-O\t0.99 \t0.90 \t0.89 \t0.90 \n",
      "\n",
      "INFO:Entity level P/R/F1: 0.85/0.86/0.85\n",
      "INFO:New best score! Saving model in results/rnn/20180826_125334/model.weights\n"
     ]
    },
    {
     "name": "stdout",
     "output_type": "stream",
     "text": [
      "\n",
      "\n",
      "102/102 [==============================] - 54s    \n"
     ]
    }
   ],
   "source": [
    "%run -i q2_rnn.py train"
   ]
  },
  {
   "cell_type": "code",
   "execution_count": 8,
   "metadata": {},
   "outputs": [
    {
     "name": "stderr",
     "output_type": "stream",
     "text": [
      "INFO:Testing gru_cell\n",
      "INFO:Passed!\n"
     ]
    },
    {
     "name": "stdout",
     "output_type": "stream",
     "text": [
      "y_ = [[ 0.32035077  0.55478156]\n",
      " [-0.00592546  0.0195577 ]]\n",
      "ht_ = [[ 0.32035077  0.55478156]\n",
      " [-0.00592546  0.0195577 ]]\n"
     ]
    }
   ],
   "source": [
    "%run -i q3_gru_cell.py tes"
   ]
  },
  {
   "cell_type": "code",
   "execution_count": 3,
   "metadata": {},
   "outputs": [
    {
     "name": "stderr",
     "output_type": "stream",
     "text": [
      "q3_gru.py:28: UserWarning: \n",
      "This call to matplotlib.use() has no effect because the backend has already\n",
      "been chosen; matplotlib.use() must be called *before* pylab, matplotlib.pyplot,\n",
      "or matplotlib.backends is imported for the first time.\n",
      "\n",
      "The backend was *originally* set to 'module://ipykernel.pylab.backend_inline' by the following code:\n",
      "  File \"/home/hojoon/anaconda3/lib/python3.6/runpy.py\", line 193, in _run_module_as_main\n",
      "    \"__main__\", mod_spec)\n",
      "  File \"/home/hojoon/anaconda3/lib/python3.6/runpy.py\", line 85, in _run_code\n",
      "    exec(code, run_globals)\n",
      "  File \"/home/hojoon/anaconda3/lib/python3.6/site-packages/ipykernel_launcher.py\", line 16, in <module>\n",
      "    app.launch_new_instance()\n",
      "  File \"/home/hojoon/anaconda3/lib/python3.6/site-packages/traitlets/config/application.py\", line 658, in launch_instance\n",
      "    app.start()\n",
      "  File \"/home/hojoon/anaconda3/lib/python3.6/site-packages/ipykernel/kernelapp.py\", line 478, in start\n",
      "    self.io_loop.start()\n",
      "  File \"/home/hojoon/anaconda3/lib/python3.6/site-packages/zmq/eventloop/ioloop.py\", line 177, in start\n",
      "    super(ZMQIOLoop, self).start()\n",
      "  File \"/home/hojoon/anaconda3/lib/python3.6/site-packages/tornado/ioloop.py\", line 888, in start\n",
      "    handler_func(fd_obj, events)\n",
      "  File \"/home/hojoon/anaconda3/lib/python3.6/site-packages/tornado/stack_context.py\", line 277, in null_wrapper\n",
      "    return fn(*args, **kwargs)\n",
      "  File \"/home/hojoon/anaconda3/lib/python3.6/site-packages/zmq/eventloop/zmqstream.py\", line 440, in _handle_events\n",
      "    self._handle_recv()\n",
      "  File \"/home/hojoon/anaconda3/lib/python3.6/site-packages/zmq/eventloop/zmqstream.py\", line 472, in _handle_recv\n",
      "    self._run_callback(callback, msg)\n",
      "  File \"/home/hojoon/anaconda3/lib/python3.6/site-packages/zmq/eventloop/zmqstream.py\", line 414, in _run_callback\n",
      "    callback(*args, **kwargs)\n",
      "  File \"/home/hojoon/anaconda3/lib/python3.6/site-packages/tornado/stack_context.py\", line 277, in null_wrapper\n",
      "    return fn(*args, **kwargs)\n",
      "  File \"/home/hojoon/anaconda3/lib/python3.6/site-packages/ipykernel/kernelbase.py\", line 283, in dispatcher\n",
      "    return self.dispatch_shell(stream, msg)\n",
      "  File \"/home/hojoon/anaconda3/lib/python3.6/site-packages/ipykernel/kernelbase.py\", line 233, in dispatch_shell\n",
      "    handler(stream, idents, msg)\n",
      "  File \"/home/hojoon/anaconda3/lib/python3.6/site-packages/ipykernel/kernelbase.py\", line 399, in execute_request\n",
      "    user_expressions, allow_stdin)\n",
      "  File \"/home/hojoon/anaconda3/lib/python3.6/site-packages/ipykernel/ipkernel.py\", line 208, in do_execute\n",
      "    res = shell.run_cell(code, store_history=store_history, silent=silent)\n",
      "  File \"/home/hojoon/anaconda3/lib/python3.6/site-packages/ipykernel/zmqshell.py\", line 537, in run_cell\n",
      "    return super(ZMQInteractiveShell, self).run_cell(*args, **kwargs)\n",
      "  File \"/home/hojoon/anaconda3/lib/python3.6/site-packages/IPython/core/interactiveshell.py\", line 2739, in run_cell\n",
      "    self.events.trigger('post_run_cell')\n",
      "  File \"/home/hojoon/anaconda3/lib/python3.6/site-packages/IPython/core/events.py\", line 73, in trigger\n",
      "    func(*args, **kwargs)\n",
      "  File \"/home/hojoon/anaconda3/lib/python3.6/site-packages/ipykernel/pylab/backend_inline.py\", line 160, in configure_once\n",
      "    activate_matplotlib(backend)\n",
      "  File \"/home/hojoon/anaconda3/lib/python3.6/site-packages/IPython/core/pylabtools.py\", line 308, in activate_matplotlib\n",
      "    matplotlib.pyplot.switch_backend(backend)\n",
      "  File \"/home/hojoon/anaconda3/lib/python3.6/site-packages/matplotlib/pyplot.py\", line 231, in switch_backend\n",
      "    matplotlib.use(newbackend, warn=False, force=True)\n",
      "  File \"/home/hojoon/anaconda3/lib/python3.6/site-packages/matplotlib/__init__.py\", line 1410, in use\n",
      "    reload(sys.modules['matplotlib.backends'])\n",
      "  File \"/home/hojoon/anaconda3/lib/python3.6/importlib/__init__.py\", line 166, in reload\n",
      "    _bootstrap._exec(spec, module)\n",
      "  File \"/home/hojoon/anaconda3/lib/python3.6/site-packages/matplotlib/backends/__init__.py\", line 16, in <module>\n",
      "    line for line in traceback.format_stack()\n",
      "\n",
      "\n",
      "  matplotlib.use('TkAgg')\n",
      "INFO:Building model...\n",
      "INFO:took 0.12 seconds\n",
      "INFO:Epoch 1 out of 40\n"
     ]
    },
    {
     "name": "stdout",
     "output_type": "stream",
     "text": [
      "100/100 [==============================] - 0s - train loss: 12.6066     "
     ]
    },
    {
     "name": "stderr",
     "output_type": "stream",
     "text": [
      "INFO:Epoch 2 out of 40\n"
     ]
    },
    {
     "name": "stdout",
     "output_type": "stream",
     "text": [
      "\n",
      "100/100 [==============================] - 0s - train loss: 12.5077     "
     ]
    },
    {
     "name": "stderr",
     "output_type": "stream",
     "text": [
      "INFO:Epoch 3 out of 40\n"
     ]
    },
    {
     "name": "stdout",
     "output_type": "stream",
     "text": [
      "\n",
      "100/100 [==============================] - 0s - train loss: 12.5032     "
     ]
    },
    {
     "name": "stderr",
     "output_type": "stream",
     "text": [
      "INFO:Epoch 4 out of 40\n"
     ]
    },
    {
     "name": "stdout",
     "output_type": "stream",
     "text": [
      "\n",
      "100/100 [==============================] - 0s - train loss: 12.5014     "
     ]
    },
    {
     "name": "stderr",
     "output_type": "stream",
     "text": [
      "INFO:Epoch 5 out of 40\n"
     ]
    },
    {
     "name": "stdout",
     "output_type": "stream",
     "text": [
      "\n",
      "100/100 [==============================] - 0s - train loss: 12.5005     "
     ]
    },
    {
     "name": "stderr",
     "output_type": "stream",
     "text": [
      "INFO:Epoch 6 out of 40\n"
     ]
    },
    {
     "name": "stdout",
     "output_type": "stream",
     "text": [
      "\n",
      "100/100 [==============================] - 0s - train loss: 12.5000     "
     ]
    },
    {
     "name": "stderr",
     "output_type": "stream",
     "text": [
      "INFO:Epoch 7 out of 40\n"
     ]
    },
    {
     "name": "stdout",
     "output_type": "stream",
     "text": [
      "\n",
      "100/100 [==============================] - 0s - train loss: 12.4996     "
     ]
    },
    {
     "name": "stderr",
     "output_type": "stream",
     "text": [
      "INFO:Epoch 8 out of 40\n"
     ]
    },
    {
     "name": "stdout",
     "output_type": "stream",
     "text": [
      "\n",
      "100/100 [==============================] - 0s - train loss: 12.4993     "
     ]
    },
    {
     "name": "stderr",
     "output_type": "stream",
     "text": [
      "INFO:Epoch 9 out of 40\n"
     ]
    },
    {
     "name": "stdout",
     "output_type": "stream",
     "text": [
      "\n",
      "100/100 [==============================] - 0s - train loss: 12.4991     "
     ]
    },
    {
     "name": "stderr",
     "output_type": "stream",
     "text": [
      "INFO:Epoch 10 out of 40\n"
     ]
    },
    {
     "name": "stdout",
     "output_type": "stream",
     "text": [
      "\n",
      "100/100 [==============================] - 0s - train loss: 12.4989     "
     ]
    },
    {
     "name": "stderr",
     "output_type": "stream",
     "text": [
      "INFO:Epoch 11 out of 40\n"
     ]
    },
    {
     "name": "stdout",
     "output_type": "stream",
     "text": [
      "\n",
      "100/100 [==============================] - 0s - train loss: 12.4988     "
     ]
    },
    {
     "name": "stderr",
     "output_type": "stream",
     "text": [
      "INFO:Epoch 12 out of 40\n"
     ]
    },
    {
     "name": "stdout",
     "output_type": "stream",
     "text": [
      "\n",
      "100/100 [==============================] - 0s - train loss: 12.4987     "
     ]
    },
    {
     "name": "stderr",
     "output_type": "stream",
     "text": [
      "INFO:Epoch 13 out of 40\n"
     ]
    },
    {
     "name": "stdout",
     "output_type": "stream",
     "text": [
      "\n",
      "100/100 [==============================] - 0s - train loss: 12.4986     "
     ]
    },
    {
     "name": "stderr",
     "output_type": "stream",
     "text": [
      "INFO:Epoch 14 out of 40\n"
     ]
    },
    {
     "name": "stdout",
     "output_type": "stream",
     "text": [
      "\n",
      "100/100 [==============================] - 0s - train loss: 12.4985     "
     ]
    },
    {
     "name": "stderr",
     "output_type": "stream",
     "text": [
      "INFO:Epoch 15 out of 40\n"
     ]
    },
    {
     "name": "stdout",
     "output_type": "stream",
     "text": [
      "\n",
      "100/100 [==============================] - 0s - train loss: 12.4984     "
     ]
    },
    {
     "name": "stderr",
     "output_type": "stream",
     "text": [
      "INFO:Epoch 16 out of 40\n"
     ]
    },
    {
     "name": "stdout",
     "output_type": "stream",
     "text": [
      "\n",
      "100/100 [==============================] - 0s - train loss: 12.4983     "
     ]
    },
    {
     "name": "stderr",
     "output_type": "stream",
     "text": [
      "INFO:Epoch 17 out of 40\n"
     ]
    },
    {
     "name": "stdout",
     "output_type": "stream",
     "text": [
      "\n",
      "100/100 [==============================] - 0s - train loss: 12.4983     "
     ]
    },
    {
     "name": "stderr",
     "output_type": "stream",
     "text": [
      "INFO:Epoch 18 out of 40\n"
     ]
    },
    {
     "name": "stdout",
     "output_type": "stream",
     "text": [
      "\n",
      "100/100 [==============================] - 0s - train loss: 12.4983     "
     ]
    },
    {
     "name": "stderr",
     "output_type": "stream",
     "text": [
      "INFO:Epoch 19 out of 40\n"
     ]
    },
    {
     "name": "stdout",
     "output_type": "stream",
     "text": [
      "\n",
      "100/100 [==============================] - 0s - train loss: 12.4982     "
     ]
    },
    {
     "name": "stderr",
     "output_type": "stream",
     "text": [
      "INFO:Epoch 20 out of 40\n"
     ]
    },
    {
     "name": "stdout",
     "output_type": "stream",
     "text": [
      "\n",
      "100/100 [==============================] - 0s - train loss: 12.4982     "
     ]
    },
    {
     "name": "stderr",
     "output_type": "stream",
     "text": [
      "INFO:Epoch 21 out of 40\n"
     ]
    },
    {
     "name": "stdout",
     "output_type": "stream",
     "text": [
      "\n",
      "100/100 [==============================] - 0s - train loss: 12.4981     "
     ]
    },
    {
     "name": "stderr",
     "output_type": "stream",
     "text": [
      "INFO:Epoch 22 out of 40\n"
     ]
    },
    {
     "name": "stdout",
     "output_type": "stream",
     "text": [
      "\n",
      "100/100 [==============================] - 0s - train loss: 12.4981     "
     ]
    },
    {
     "name": "stderr",
     "output_type": "stream",
     "text": [
      "INFO:Epoch 23 out of 40\n"
     ]
    },
    {
     "name": "stdout",
     "output_type": "stream",
     "text": [
      "\n",
      "100/100 [==============================] - 0s - train loss: 12.4981     "
     ]
    },
    {
     "name": "stderr",
     "output_type": "stream",
     "text": [
      "INFO:Epoch 24 out of 40\n"
     ]
    },
    {
     "name": "stdout",
     "output_type": "stream",
     "text": [
      "\n",
      "100/100 [==============================] - 0s - train loss: 12.4981     "
     ]
    },
    {
     "name": "stderr",
     "output_type": "stream",
     "text": [
      "INFO:Epoch 25 out of 40\n"
     ]
    },
    {
     "name": "stdout",
     "output_type": "stream",
     "text": [
      "\n",
      "100/100 [==============================] - 0s - train loss: 12.4980     "
     ]
    },
    {
     "name": "stderr",
     "output_type": "stream",
     "text": [
      "INFO:Epoch 26 out of 40\n"
     ]
    },
    {
     "name": "stdout",
     "output_type": "stream",
     "text": [
      "\n",
      "100/100 [==============================] - 0s - train loss: 12.4980     "
     ]
    },
    {
     "name": "stderr",
     "output_type": "stream",
     "text": [
      "INFO:Epoch 27 out of 40\n"
     ]
    },
    {
     "name": "stdout",
     "output_type": "stream",
     "text": [
      "\n",
      "100/100 [==============================] - 0s - train loss: 12.4980     "
     ]
    },
    {
     "name": "stderr",
     "output_type": "stream",
     "text": [
      "INFO:Epoch 28 out of 40\n"
     ]
    },
    {
     "name": "stdout",
     "output_type": "stream",
     "text": [
      "\n",
      "100/100 [==============================] - 0s - train loss: 12.4980     "
     ]
    },
    {
     "name": "stderr",
     "output_type": "stream",
     "text": [
      "INFO:Epoch 29 out of 40\n"
     ]
    },
    {
     "name": "stdout",
     "output_type": "stream",
     "text": [
      "\n",
      "100/100 [==============================] - 0s - train loss: 12.4980     "
     ]
    },
    {
     "name": "stderr",
     "output_type": "stream",
     "text": [
      "INFO:Epoch 30 out of 40\n"
     ]
    },
    {
     "name": "stdout",
     "output_type": "stream",
     "text": [
      "\n",
      "100/100 [==============================] - 0s - train loss: 12.4979     "
     ]
    },
    {
     "name": "stderr",
     "output_type": "stream",
     "text": [
      "INFO:Epoch 31 out of 40\n"
     ]
    },
    {
     "name": "stdout",
     "output_type": "stream",
     "text": [
      "\n",
      "100/100 [==============================] - 0s - train loss: 12.4979     "
     ]
    },
    {
     "name": "stderr",
     "output_type": "stream",
     "text": [
      "INFO:Epoch 32 out of 40\n"
     ]
    },
    {
     "name": "stdout",
     "output_type": "stream",
     "text": [
      "\n",
      "100/100 [==============================] - 0s - train loss: 12.4979     "
     ]
    },
    {
     "name": "stderr",
     "output_type": "stream",
     "text": [
      "INFO:Epoch 33 out of 40\n"
     ]
    },
    {
     "name": "stdout",
     "output_type": "stream",
     "text": [
      "\n",
      "100/100 [==============================] - 0s - train loss: 12.4979     "
     ]
    },
    {
     "name": "stderr",
     "output_type": "stream",
     "text": [
      "INFO:Epoch 34 out of 40\n"
     ]
    },
    {
     "name": "stdout",
     "output_type": "stream",
     "text": [
      "\n",
      "100/100 [==============================] - 0s - train loss: 12.4979     "
     ]
    },
    {
     "name": "stderr",
     "output_type": "stream",
     "text": [
      "INFO:Epoch 35 out of 40\n"
     ]
    },
    {
     "name": "stdout",
     "output_type": "stream",
     "text": [
      "\n",
      "100/100 [==============================] - 0s - train loss: 12.4979     "
     ]
    },
    {
     "name": "stderr",
     "output_type": "stream",
     "text": [
      "INFO:Epoch 36 out of 40\n"
     ]
    },
    {
     "name": "stdout",
     "output_type": "stream",
     "text": [
      "\n",
      "100/100 [==============================] - 0s - train loss: 12.4979     "
     ]
    },
    {
     "name": "stderr",
     "output_type": "stream",
     "text": [
      "INFO:Epoch 37 out of 40\n"
     ]
    },
    {
     "name": "stdout",
     "output_type": "stream",
     "text": [
      "\n",
      "100/100 [==============================] - 0s - train loss: 12.4979     "
     ]
    },
    {
     "name": "stderr",
     "output_type": "stream",
     "text": [
      "INFO:Epoch 38 out of 40\n"
     ]
    },
    {
     "name": "stdout",
     "output_type": "stream",
     "text": [
      "\n",
      "100/100 [==============================] - 0s - train loss: 12.4978     "
     ]
    },
    {
     "name": "stderr",
     "output_type": "stream",
     "text": [
      "INFO:Epoch 39 out of 40\n"
     ]
    },
    {
     "name": "stdout",
     "output_type": "stream",
     "text": [
      "\n",
      "100/100 [==============================] - 0s - train loss: 12.4978     "
     ]
    },
    {
     "name": "stderr",
     "output_type": "stream",
     "text": [
      "INFO:Epoch 40 out of 40\n"
     ]
    },
    {
     "name": "stdout",
     "output_type": "stream",
     "text": [
      "\n",
      "100/100 [==============================] - 0s - train loss: 12.4978     \n"
     ]
    },
    {
     "data": {
      "image/png": "[encoded data removed]",
      "text/plain": [
       "<Figure size 432x288 with 2 Axes>"
      ]
     },
     "metadata": {},
     "output_type": "display_data"
    }
   ],
   "source": [
    "%run -i q3_gru.py predict -c rnn -g "
   ]
  },
  {
   "cell_type": "code",
   "execution_count": 2,
   "metadata": {},
   "outputs": [
    {
     "name": "stderr",
     "output_type": "stream",
     "text": [
      "q3_gru.py:28: UserWarning: \n",
      "This call to matplotlib.use() has no effect because the backend has already\n",
      "been chosen; matplotlib.use() must be called *before* pylab, matplotlib.pyplot,\n",
      "or matplotlib.backends is imported for the first time.\n",
      "\n",
      "The backend was *originally* set to 'module://ipykernel.pylab.backend_inline' by the following code:\n",
      "  File \"/home/hojoon/anaconda3/lib/python3.6/runpy.py\", line 193, in _run_module_as_main\n",
      "    \"__main__\", mod_spec)\n",
      "  File \"/home/hojoon/anaconda3/lib/python3.6/runpy.py\", line 85, in _run_code\n",
      "    exec(code, run_globals)\n",
      "  File \"/home/hojoon/anaconda3/lib/python3.6/site-packages/ipykernel_launcher.py\", line 16, in <module>\n",
      "    app.launch_new_instance()\n",
      "  File \"/home/hojoon/anaconda3/lib/python3.6/site-packages/traitlets/config/application.py\", line 658, in launch_instance\n",
      "    app.start()\n",
      "  File \"/home/hojoon/anaconda3/lib/python3.6/site-packages/ipykernel/kernelapp.py\", line 478, in start\n",
      "    self.io_loop.start()\n",
      "  File \"/home/hojoon/anaconda3/lib/python3.6/site-packages/zmq/eventloop/ioloop.py\", line 177, in start\n",
      "    super(ZMQIOLoop, self).start()\n",
      "  File \"/home/hojoon/anaconda3/lib/python3.6/site-packages/tornado/ioloop.py\", line 888, in start\n",
      "    handler_func(fd_obj, events)\n",
      "  File \"/home/hojoon/anaconda3/lib/python3.6/site-packages/tornado/stack_context.py\", line 277, in null_wrapper\n",
      "    return fn(*args, **kwargs)\n",
      "  File \"/home/hojoon/anaconda3/lib/python3.6/site-packages/zmq/eventloop/zmqstream.py\", line 440, in _handle_events\n",
      "    self._handle_recv()\n",
      "  File \"/home/hojoon/anaconda3/lib/python3.6/site-packages/zmq/eventloop/zmqstream.py\", line 472, in _handle_recv\n",
      "    self._run_callback(callback, msg)\n",
      "  File \"/home/hojoon/anaconda3/lib/python3.6/site-packages/zmq/eventloop/zmqstream.py\", line 414, in _run_callback\n",
      "    callback(*args, **kwargs)\n",
      "  File \"/home/hojoon/anaconda3/lib/python3.6/site-packages/tornado/stack_context.py\", line 277, in null_wrapper\n",
      "    return fn(*args, **kwargs)\n",
      "  File \"/home/hojoon/anaconda3/lib/python3.6/site-packages/ipykernel/kernelbase.py\", line 283, in dispatcher\n",
      "    return self.dispatch_shell(stream, msg)\n",
      "  File \"/home/hojoon/anaconda3/lib/python3.6/site-packages/ipykernel/kernelbase.py\", line 233, in dispatch_shell\n",
      "    handler(stream, idents, msg)\n",
      "  File \"/home/hojoon/anaconda3/lib/python3.6/site-packages/ipykernel/kernelbase.py\", line 399, in execute_request\n",
      "    user_expressions, allow_stdin)\n",
      "  File \"/home/hojoon/anaconda3/lib/python3.6/site-packages/ipykernel/ipkernel.py\", line 208, in do_execute\n",
      "    res = shell.run_cell(code, store_history=store_history, silent=silent)\n",
      "  File \"/home/hojoon/anaconda3/lib/python3.6/site-packages/ipykernel/zmqshell.py\", line 537, in run_cell\n",
      "    return super(ZMQInteractiveShell, self).run_cell(*args, **kwargs)\n",
      "  File \"/home/hojoon/anaconda3/lib/python3.6/site-packages/IPython/core/interactiveshell.py\", line 2739, in run_cell\n",
      "    self.events.trigger('post_run_cell')\n",
      "  File \"/home/hojoon/anaconda3/lib/python3.6/site-packages/IPython/core/events.py\", line 73, in trigger\n",
      "    func(*args, **kwargs)\n",
      "  File \"/home/hojoon/anaconda3/lib/python3.6/site-packages/ipykernel/pylab/backend_inline.py\", line 160, in configure_once\n",
      "    activate_matplotlib(backend)\n",
      "  File \"/home/hojoon/anaconda3/lib/python3.6/site-packages/IPython/core/pylabtools.py\", line 308, in activate_matplotlib\n",
      "    matplotlib.pyplot.switch_backend(backend)\n",
      "  File \"/home/hojoon/anaconda3/lib/python3.6/site-packages/matplotlib/pyplot.py\", line 231, in switch_backend\n",
      "    matplotlib.use(newbackend, warn=False, force=True)\n",
      "  File \"/home/hojoon/anaconda3/lib/python3.6/site-packages/matplotlib/__init__.py\", line 1410, in use\n",
      "    reload(sys.modules['matplotlib.backends'])\n",
      "  File \"/home/hojoon/anaconda3/lib/python3.6/importlib/__init__.py\", line 166, in reload\n",
      "    _bootstrap._exec(spec, module)\n",
      "  File \"/home/hojoon/anaconda3/lib/python3.6/site-packages/matplotlib/backends/__init__.py\", line 16, in <module>\n",
      "    line for line in traceback.format_stack()\n",
      "\n",
      "\n",
      "  matplotlib.use('TkAgg')\n",
      "INFO:Building model...\n",
      "INFO:took 0.29 seconds\n",
      "INFO:Epoch 1 out of 40\n"
     ]
    },
    {
     "name": "stdout",
     "output_type": "stream",
     "text": [
      "100/100 [==============================] - 0s - train loss: 12.5218     "
     ]
    },
    {
     "name": "stderr",
     "output_type": "stream",
     "text": [
      "INFO:Epoch 2 out of 40\n"
     ]
    },
    {
     "name": "stdout",
     "output_type": "stream",
     "text": [
      "\n",
      "100/100 [==============================] - 0s - train loss: 12.5373     "
     ]
    },
    {
     "name": "stderr",
     "output_type": "stream",
     "text": [
      "INFO:Epoch 3 out of 40\n"
     ]
    },
    {
     "name": "stdout",
     "output_type": "stream",
     "text": [
      "\n",
      "100/100 [==============================] - 0s - train loss: 12.5130     "
     ]
    },
    {
     "name": "stderr",
     "output_type": "stream",
     "text": [
      "INFO:Epoch 4 out of 40\n"
     ]
    },
    {
     "name": "stdout",
     "output_type": "stream",
     "text": [
      "\n",
      "100/100 [==============================] - 0s - train loss: 12.5146     "
     ]
    },
    {
     "name": "stderr",
     "output_type": "stream",
     "text": [
      "INFO:Epoch 5 out of 40\n"
     ]
    },
    {
     "name": "stdout",
     "output_type": "stream",
     "text": [
      "\n",
      "100/100 [==============================] - 0s - train loss: 12.5188     "
     ]
    },
    {
     "name": "stderr",
     "output_type": "stream",
     "text": [
      "INFO:Epoch 6 out of 40\n"
     ]
    },
    {
     "name": "stdout",
     "output_type": "stream",
     "text": [
      "\n",
      "100/100 [==============================] - 0s - train loss: 12.5156     "
     ]
    },
    {
     "name": "stderr",
     "output_type": "stream",
     "text": [
      "INFO:Epoch 7 out of 40\n"
     ]
    },
    {
     "name": "stdout",
     "output_type": "stream",
     "text": [
      "\n",
      "100/100 [==============================] - 0s - train loss: 12.5082     "
     ]
    },
    {
     "name": "stderr",
     "output_type": "stream",
     "text": [
      "INFO:Epoch 8 out of 40\n"
     ]
    },
    {
     "name": "stdout",
     "output_type": "stream",
     "text": [
      "\n",
      "100/100 [==============================] - 0s - train loss: 12.5092     "
     ]
    },
    {
     "name": "stderr",
     "output_type": "stream",
     "text": [
      "INFO:Epoch 9 out of 40\n"
     ]
    },
    {
     "name": "stdout",
     "output_type": "stream",
     "text": [
      "\n",
      "100/100 [==============================] - 0s - train loss: 12.5082     "
     ]
    },
    {
     "name": "stderr",
     "output_type": "stream",
     "text": [
      "INFO:Epoch 10 out of 40\n"
     ]
    },
    {
     "name": "stdout",
     "output_type": "stream",
     "text": [
      "\n",
      "100/100 [==============================] - 0s - train loss: 12.5070     "
     ]
    },
    {
     "name": "stderr",
     "output_type": "stream",
     "text": [
      "INFO:Epoch 11 out of 40\n"
     ]
    },
    {
     "name": "stdout",
     "output_type": "stream",
     "text": [
      "\n",
      "100/100 [==============================] - 0s - train loss: 12.5051     "
     ]
    },
    {
     "name": "stderr",
     "output_type": "stream",
     "text": [
      "INFO:Epoch 12 out of 40\n"
     ]
    },
    {
     "name": "stdout",
     "output_type": "stream",
     "text": [
      "\n",
      "100/100 [==============================] - 0s - train loss: 12.5047     "
     ]
    },
    {
     "name": "stderr",
     "output_type": "stream",
     "text": [
      "INFO:Epoch 13 out of 40\n"
     ]
    },
    {
     "name": "stdout",
     "output_type": "stream",
     "text": [
      "\n",
      "100/100 [==============================] - 0s - train loss: 12.5105     "
     ]
    },
    {
     "name": "stderr",
     "output_type": "stream",
     "text": [
      "INFO:Epoch 14 out of 40\n"
     ]
    },
    {
     "name": "stdout",
     "output_type": "stream",
     "text": [
      "\n",
      "100/100 [==============================] - 0s - train loss: 12.5020     "
     ]
    },
    {
     "name": "stderr",
     "output_type": "stream",
     "text": [
      "INFO:Epoch 15 out of 40\n"
     ]
    },
    {
     "name": "stdout",
     "output_type": "stream",
     "text": [
      "\n",
      "100/100 [==============================] - 0s - train loss: 12.5055     "
     ]
    },
    {
     "name": "stderr",
     "output_type": "stream",
     "text": [
      "INFO:Epoch 16 out of 40\n"
     ]
    },
    {
     "name": "stdout",
     "output_type": "stream",
     "text": [
      "\n",
      "100/100 [==============================] - 0s - train loss: 12.5049     "
     ]
    },
    {
     "name": "stderr",
     "output_type": "stream",
     "text": [
      "INFO:Epoch 17 out of 40\n"
     ]
    },
    {
     "name": "stdout",
     "output_type": "stream",
     "text": [
      "\n",
      "100/100 [==============================] - 0s - train loss: 12.5045     "
     ]
    },
    {
     "name": "stderr",
     "output_type": "stream",
     "text": [
      "INFO:Epoch 18 out of 40\n"
     ]
    },
    {
     "name": "stdout",
     "output_type": "stream",
     "text": [
      "\n",
      "100/100 [==============================] - 0s - train loss: 12.5060     "
     ]
    },
    {
     "name": "stderr",
     "output_type": "stream",
     "text": [
      "INFO:Epoch 19 out of 40\n"
     ]
    },
    {
     "name": "stdout",
     "output_type": "stream",
     "text": [
      "\n",
      "100/100 [==============================] - 0s - train loss: 12.5023     "
     ]
    },
    {
     "name": "stderr",
     "output_type": "stream",
     "text": [
      "INFO:Epoch 20 out of 40\n"
     ]
    },
    {
     "name": "stdout",
     "output_type": "stream",
     "text": [
      "\n",
      "100/100 [==============================] - 0s - train loss: 12.4908     "
     ]
    },
    {
     "name": "stderr",
     "output_type": "stream",
     "text": [
      "INFO:Epoch 21 out of 40\n"
     ]
    },
    {
     "name": "stdout",
     "output_type": "stream",
     "text": [
      "\n",
      "100/100 [==============================] - 0s - train loss: 12.5083     "
     ]
    },
    {
     "name": "stderr",
     "output_type": "stream",
     "text": [
      "INFO:Epoch 22 out of 40\n"
     ]
    },
    {
     "name": "stdout",
     "output_type": "stream",
     "text": [
      "\n",
      "100/100 [==============================] - 0s - train loss: 12.5013     "
     ]
    },
    {
     "name": "stderr",
     "output_type": "stream",
     "text": [
      "INFO:Epoch 23 out of 40\n"
     ]
    },
    {
     "name": "stdout",
     "output_type": "stream",
     "text": [
      "\n",
      "100/100 [==============================] - 0s - train loss: 12.5021     "
     ]
    },
    {
     "name": "stderr",
     "output_type": "stream",
     "text": [
      "INFO:Epoch 24 out of 40\n"
     ]
    },
    {
     "name": "stdout",
     "output_type": "stream",
     "text": [
      "\n",
      "100/100 [==============================] - 0s - train loss: 12.5061     "
     ]
    },
    {
     "name": "stderr",
     "output_type": "stream",
     "text": [
      "INFO:Epoch 25 out of 40\n"
     ]
    },
    {
     "name": "stdout",
     "output_type": "stream",
     "text": [
      "\n",
      "100/100 [==============================] - 0s - train loss: 12.5036     "
     ]
    },
    {
     "name": "stderr",
     "output_type": "stream",
     "text": [
      "INFO:Epoch 26 out of 40\n"
     ]
    },
    {
     "name": "stdout",
     "output_type": "stream",
     "text": [
      "\n",
      "100/100 [==============================] - 0s - train loss: 12.5024     "
     ]
    },
    {
     "name": "stderr",
     "output_type": "stream",
     "text": [
      "INFO:Epoch 27 out of 40\n"
     ]
    },
    {
     "name": "stdout",
     "output_type": "stream",
     "text": [
      "\n",
      "100/100 [==============================] - 0s - train loss: 12.5042     "
     ]
    },
    {
     "name": "stderr",
     "output_type": "stream",
     "text": [
      "INFO:Epoch 28 out of 40\n"
     ]
    },
    {
     "name": "stdout",
     "output_type": "stream",
     "text": [
      "\n",
      "100/100 [==============================] - 0s - train loss: 12.5041     "
     ]
    },
    {
     "name": "stderr",
     "output_type": "stream",
     "text": [
      "INFO:Epoch 29 out of 40\n"
     ]
    },
    {
     "name": "stdout",
     "output_type": "stream",
     "text": [
      "\n",
      "100/100 [==============================] - 0s - train loss: 12.5061     "
     ]
    },
    {
     "name": "stderr",
     "output_type": "stream",
     "text": [
      "INFO:Epoch 30 out of 40\n"
     ]
    },
    {
     "name": "stdout",
     "output_type": "stream",
     "text": [
      "\n",
      "100/100 [==============================] - 0s - train loss: 12.5034     "
     ]
    },
    {
     "name": "stderr",
     "output_type": "stream",
     "text": [
      "INFO:Epoch 31 out of 40\n"
     ]
    },
    {
     "name": "stdout",
     "output_type": "stream",
     "text": [
      "\n",
      "100/100 [==============================] - 0s - train loss: 12.5002     "
     ]
    },
    {
     "name": "stderr",
     "output_type": "stream",
     "text": [
      "INFO:Epoch 32 out of 40\n"
     ]
    },
    {
     "name": "stdout",
     "output_type": "stream",
     "text": [
      "\n",
      "100/100 [==============================] - 0s - train loss: 12.5038     "
     ]
    },
    {
     "name": "stderr",
     "output_type": "stream",
     "text": [
      "INFO:Epoch 33 out of 40\n"
     ]
    },
    {
     "name": "stdout",
     "output_type": "stream",
     "text": [
      "\n",
      "100/100 [==============================] - 0s - train loss: 12.5008     "
     ]
    },
    {
     "name": "stderr",
     "output_type": "stream",
     "text": [
      "INFO:Epoch 34 out of 40\n"
     ]
    },
    {
     "name": "stdout",
     "output_type": "stream",
     "text": [
      "\n",
      "100/100 [==============================] - 0s - train loss: 12.5039     "
     ]
    },
    {
     "name": "stderr",
     "output_type": "stream",
     "text": [
      "INFO:Epoch 35 out of 40\n"
     ]
    },
    {
     "name": "stdout",
     "output_type": "stream",
     "text": [
      "\n",
      "100/100 [==============================] - 0s - train loss: 12.5024     "
     ]
    },
    {
     "name": "stderr",
     "output_type": "stream",
     "text": [
      "INFO:Epoch 36 out of 40\n"
     ]
    },
    {
     "name": "stdout",
     "output_type": "stream",
     "text": [
      "\n",
      "100/100 [==============================] - 0s - train loss: 12.5053     "
     ]
    },
    {
     "name": "stderr",
     "output_type": "stream",
     "text": [
      "INFO:Epoch 37 out of 40\n"
     ]
    },
    {
     "name": "stdout",
     "output_type": "stream",
     "text": [
      "\n",
      "100/100 [==============================] - 0s - train loss: 12.4994     "
     ]
    },
    {
     "name": "stderr",
     "output_type": "stream",
     "text": [
      "INFO:Epoch 38 out of 40\n"
     ]
    },
    {
     "name": "stdout",
     "output_type": "stream",
     "text": [
      "\n",
      "100/100 [==============================] - 0s - train loss: 12.5020     "
     ]
    },
    {
     "name": "stderr",
     "output_type": "stream",
     "text": [
      "INFO:Epoch 39 out of 40\n"
     ]
    },
    {
     "name": "stdout",
     "output_type": "stream",
     "text": [
      "\n",
      "100/100 [==============================] - 0s - train loss: 12.5029     "
     ]
    },
    {
     "name": "stderr",
     "output_type": "stream",
     "text": [
      "INFO:Epoch 40 out of 40\n"
     ]
    },
    {
     "name": "stdout",
     "output_type": "stream",
     "text": [
      "\n",
      "100/100 [==============================] - 0s - train loss: 12.5024     \n"
     ]
    },
    {
     "data": {
      "image/png": "[encoded data removed]",
      "text/plain": [
       "<Figure size 432x288 with 2 Axes>"
      ]
     },
     "metadata": {},
     "output_type": "display_data"
    }
   ],
   "source": [
    "%run -i q3_gru.py predict -c gru -g "
   ]
  },
  {
   "cell_type": "code",
   "execution_count": null,
   "metadata": {},
   "outputs": [],
   "source": []
  }
 ],
 "metadata": {
  "kernelspec": {
   "display_name": "Python 3",
   "language": "python",
   "name": "python3"
  },
  "language_info": {
   "codemirror_mode": {
    "name": "ipython",
    "version": 3
   },
   "file_extension": ".py",
   "mimetype": "text/x-python",
   "name": "python",
   "nbconvert_exporter": "python",
   "pygments_lexer": "ipython3",
   "version": "3.6.4"
  }
 },
 "nbformat": 4,
 "nbformat_minor": 2
}
